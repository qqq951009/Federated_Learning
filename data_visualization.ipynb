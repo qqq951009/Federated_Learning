{
 "cells": [
  {
   "cell_type": "code",
   "execution_count": 1,
   "metadata": {},
   "outputs": [],
   "source": [
    "import scipy.stats\n",
    "import numpy as np\n",
    "import pandas as pd\n",
    "import seaborn as sns\n",
    "import matplotlib.pyplot as plt\n",
    "from statsmodels.stats.multicomp import MultiComparison\n",
    "from statsmodels.stats.multicomp import pairwise_tukeyhsd"
   ]
  },
  {
   "cell_type": "code",
   "execution_count": 89,
   "metadata": {},
   "outputs": [],
   "source": [
    "fedavg_average = pd.read_csv('//home/refu0917/lungcancer/remote_output1/output_folder/df_fedavg_average.csv', index_col=[0])\n",
    "fedavg_weight = pd.read_csv('/home/refu0917/lungcancer/remote_output1/output_folder/df_fedavg_weight.csv',index_col=[0])\n",
    "local_df = pd.read_csv('/home/refu0917/lungcancer/remote_output1/output_folder/local_val_df.csv', index_col=[0])\n",
    "local_df = local_df[['site2', 'site3', 'site6', 'site8']]\n",
    "centralized_df = pd.read_csv('/home/refu0917/lungcancer/remote_output1/Centralized_Learning/centralized_score.csv', index_col=[0])\n",
    "transfer_average = pd.read_csv('/home/refu0917/lungcancer/remote_output1/Transfer_Learning/transfer_learning_score_average.csv', index_col=[0])\n",
    "transfer_weight = pd.read_csv('/home/refu0917/lungcancer/remote_output1/Transfer_Learning/transfer_learning_score_weight.csv', index_col=[0])\n",
    "\n",
    "fedavg_average = fedavg_average.loc[:98]\n",
    "fedavg_weight = fedavg_weight.loc[:98]\n",
    "local_df = local_df.loc[:98]\n",
    "centralized_df = centralized_df.loc[:98]\n",
    "transfer_average = transfer_average.loc[:98]\n",
    "transfer_weight = transfer_weight.loc[:98]"
   ]
  },
  {
   "cell_type": "code",
   "execution_count": 91,
   "metadata": {},
   "outputs": [],
   "source": [
    "def concat(df,method):\n",
    "    temp = pd.concat([df['site2'],df['site3'],df['site6'],df['site8']])\n",
    "    temp = pd.DataFrame(temp,columns=['mean'])\n",
    "    temp['site'] = ['site 2']*57+['site 3']*57+['site 6']*57+['site 8']*57\n",
    "    temp['method'] = method\n",
    "    return temp"
   ]
  },
  {
   "cell_type": "markdown",
   "metadata": {},
   "source": [
    "#### 比較Federated Learning 用不同的平均方式 (一般平均和對不同醫院給不同權重的方式)的差距"
   ]
  },
  {
   "cell_type": "code",
   "execution_count": 92,
   "metadata": {},
   "outputs": [
    {
     "data": {
      "text/html": [
       "<div>\n",
       "<style scoped>\n",
       "    .dataframe tbody tr th:only-of-type {\n",
       "        vertical-align: middle;\n",
       "    }\n",
       "\n",
       "    .dataframe tbody tr th {\n",
       "        vertical-align: top;\n",
       "    }\n",
       "\n",
       "    .dataframe thead th {\n",
       "        text-align: right;\n",
       "    }\n",
       "</style>\n",
       "<table border=\"1\" class=\"dataframe\">\n",
       "  <thead>\n",
       "    <tr style=\"text-align: right;\">\n",
       "      <th></th>\n",
       "      <th>site2</th>\n",
       "      <th>site3</th>\n",
       "      <th>site6</th>\n",
       "      <th>site8</th>\n",
       "    </tr>\n",
       "  </thead>\n",
       "  <tbody>\n",
       "    <tr>\n",
       "      <th>FederatedLearning (average)</th>\n",
       "      <td>0.633538</td>\n",
       "      <td>0.774196</td>\n",
       "      <td>0.727437</td>\n",
       "      <td>0.720838</td>\n",
       "    </tr>\n",
       "    <tr>\n",
       "      <th>FederatedLearning (weight)</th>\n",
       "      <td>0.566343</td>\n",
       "      <td>0.779628</td>\n",
       "      <td>0.719495</td>\n",
       "      <td>0.712440</td>\n",
       "    </tr>\n",
       "  </tbody>\n",
       "</table>\n",
       "</div>"
      ],
      "text/plain": [
       "                                site2     site3     site6     site8\n",
       "FederatedLearning (average)  0.633538  0.774196  0.727437  0.720838\n",
       "FederatedLearning (weight)   0.566343  0.779628  0.719495  0.712440"
      ]
     },
     "execution_count": 92,
     "metadata": {},
     "output_type": "execute_result"
    }
   ],
   "source": [
    "df_fedavg_average = concat(fedavg_average, 'Fedavg (average)')\n",
    "df_fedavg_weight = concat(fedavg_weight, 'Fedavg (weight)')\n",
    "boxplot_fedavg = pd.concat([df_fedavg_average, df_fedavg_weight])\n",
    "pd.DataFrame(data=[fedavg_average.mean(), fedavg_weight.mean()],index =['FederatedLearning (average)', 'FederatedLearning (weight)'])"
   ]
  },
  {
   "cell_type": "code",
   "execution_count": 93,
   "metadata": {},
   "outputs": [
    {
     "data": {
      "text/plain": [
       "Text(0.5, 0, 'Site')"
      ]
     },
     "execution_count": 93,
     "metadata": {},
     "output_type": "execute_result"
    },
    {
     "data": {
      "image/png": "[encoded data removed]",
      "text/plain": [
       "<Figure size 864x432 with 1 Axes>"
      ]
     },
     "metadata": {},
     "output_type": "display_data"
    }
   ],
   "source": [
    "sns.set(style='whitegrid')\n",
    "plt.figure(figsize=(12,6))\n",
    "ax = sns.boxplot(x = 'site',y='mean',hue='method',data=boxplot_fedavg, palette=\"Set2\",linewidth=1.5)\n",
    "ax.set_ylabel(\"AUROC\",fontsize=15)\n",
    "ax.set_xlabel(\"Site\",fontsize=15)"
   ]
  },
  {
   "cell_type": "markdown",
   "metadata": {},
   "source": [
    "#### 比較Transfer Learning 用不同的平均方式 (一般平均和對不同醫院給不同權重的方式)的差距"
   ]
  },
  {
   "cell_type": "code",
   "execution_count": 94,
   "metadata": {},
   "outputs": [
    {
     "data": {
      "text/html": [
       "<div>\n",
       "<style scoped>\n",
       "    .dataframe tbody tr th:only-of-type {\n",
       "        vertical-align: middle;\n",
       "    }\n",
       "\n",
       "    .dataframe tbody tr th {\n",
       "        vertical-align: top;\n",
       "    }\n",
       "\n",
       "    .dataframe thead th {\n",
       "        text-align: right;\n",
       "    }\n",
       "</style>\n",
       "<table border=\"1\" class=\"dataframe\">\n",
       "  <thead>\n",
       "    <tr style=\"text-align: right;\">\n",
       "      <th></th>\n",
       "      <th>site2</th>\n",
       "      <th>site3</th>\n",
       "      <th>site6</th>\n",
       "      <th>site8</th>\n",
       "    </tr>\n",
       "  </thead>\n",
       "  <tbody>\n",
       "    <tr>\n",
       "      <th>Transfer Learning (average)</th>\n",
       "      <td>0.539942</td>\n",
       "      <td>0.774285</td>\n",
       "      <td>0.677956</td>\n",
       "      <td>0.711678</td>\n",
       "    </tr>\n",
       "    <tr>\n",
       "      <th>Transfer Learning (weight)</th>\n",
       "      <td>0.442088</td>\n",
       "      <td>0.778034</td>\n",
       "      <td>0.660476</td>\n",
       "      <td>0.694485</td>\n",
       "    </tr>\n",
       "  </tbody>\n",
       "</table>\n",
       "</div>"
      ],
      "text/plain": [
       "                                site2     site3     site6     site8\n",
       "Transfer Learning (average)  0.539942  0.774285  0.677956  0.711678\n",
       "Transfer Learning (weight)   0.442088  0.778034  0.660476  0.694485"
      ]
     },
     "execution_count": 94,
     "metadata": {},
     "output_type": "execute_result"
    }
   ],
   "source": [
    "df_transfer_average = concat(transfer_average, 'Transfer (average)')\n",
    "df_transfer_weight = concat(transfer_weight, 'Transfer (weight)')\n",
    "boxplot_transfer = pd.concat([df_transfer_average, df_transfer_weight])\n",
    "pd.DataFrame(data=[transfer_average.mean(), transfer_weight.mean()],index =['Transfer Learning (average)', 'Transfer Learning (weight)'])"
   ]
  },
  {
   "cell_type": "code",
   "execution_count": 95,
   "metadata": {},
   "outputs": [
    {
     "data": {
      "text/plain": [
       "Text(0.5, 0, 'Site')"
      ]
     },
     "execution_count": 95,
     "metadata": {},
     "output_type": "execute_result"
    },
    {
     "data": {
      "image/png": "[encoded data removed]",
      "text/plain": [
       "<Figure size 864x432 with 1 Axes>"
      ]
     },
     "metadata": {},
     "output_type": "display_data"
    }
   ],
   "source": [
    "sns.set(style='whitegrid')\n",
    "plt.figure(figsize=(12,6))\n",
    "ax = sns.boxplot(x = 'site',y='mean',hue='method',data=boxplot_transfer, palette=\"Set2\",linewidth=1.5)\n",
    "ax.set_ylabel(\"AUROC\",fontsize=15)\n",
    "ax.set_xlabel(\"Site\",fontsize=15)"
   ]
  },
  {
   "cell_type": "markdown",
   "metadata": {},
   "source": [
    "#### 比較四種學習方式 Federated Learning 和 Transfer Learning 都用average方式"
   ]
  },
  {
   "cell_type": "code",
   "execution_count": 96,
   "metadata": {},
   "outputs": [
    {
     "data": {
      "text/html": [
       "<div>\n",
       "<style scoped>\n",
       "    .dataframe tbody tr th:only-of-type {\n",
       "        vertical-align: middle;\n",
       "    }\n",
       "\n",
       "    .dataframe tbody tr th {\n",
       "        vertical-align: top;\n",
       "    }\n",
       "\n",
       "    .dataframe thead th {\n",
       "        text-align: right;\n",
       "    }\n",
       "</style>\n",
       "<table border=\"1\" class=\"dataframe\">\n",
       "  <thead>\n",
       "    <tr style=\"text-align: right;\">\n",
       "      <th></th>\n",
       "      <th>site2</th>\n",
       "      <th>site3</th>\n",
       "      <th>site6</th>\n",
       "      <th>site8</th>\n",
       "    </tr>\n",
       "  </thead>\n",
       "  <tbody>\n",
       "    <tr>\n",
       "      <th>Federated Learning (average)</th>\n",
       "      <td>0.633538</td>\n",
       "      <td>0.774196</td>\n",
       "      <td>0.727437</td>\n",
       "      <td>0.720838</td>\n",
       "    </tr>\n",
       "    <tr>\n",
       "      <th>Localized Learning</th>\n",
       "      <td>0.705064</td>\n",
       "      <td>0.779145</td>\n",
       "      <td>0.709331</td>\n",
       "      <td>0.696481</td>\n",
       "    </tr>\n",
       "    <tr>\n",
       "      <th>Transfer Learning (average)</th>\n",
       "      <td>0.539942</td>\n",
       "      <td>0.774285</td>\n",
       "      <td>0.677956</td>\n",
       "      <td>0.711678</td>\n",
       "    </tr>\n",
       "    <tr>\n",
       "      <th>Centralized Learning</th>\n",
       "      <td>0.534236</td>\n",
       "      <td>0.784575</td>\n",
       "      <td>0.706875</td>\n",
       "      <td>0.716099</td>\n",
       "    </tr>\n",
       "  </tbody>\n",
       "</table>\n",
       "</div>"
      ],
      "text/plain": [
       "                                 site2     site3     site6     site8\n",
       "Federated Learning (average)  0.633538  0.774196  0.727437  0.720838\n",
       "Localized Learning            0.705064  0.779145  0.709331  0.696481\n",
       "Transfer Learning (average)   0.539942  0.774285  0.677956  0.711678\n",
       "Centralized Learning          0.534236  0.784575  0.706875  0.716099"
      ]
     },
     "execution_count": 96,
     "metadata": {},
     "output_type": "execute_result"
    }
   ],
   "source": [
    "local = concat(local_df,'Localized Learning')\n",
    "central = concat(centralized_df,'Centralized Learning')\n",
    "boxplot_all = pd.concat([df_fedavg_average,local,df_transfer_average,central])\n",
    "pd.DataFrame(data=[fedavg_average.mean(), local_df.mean(), transfer_average.mean(), centralized_df.mean()],index =['Federated Learning (average)', 'Localized Learning' ,'Transfer Learning (average)', 'Centralized Learning'])"
   ]
  },
  {
   "cell_type": "code",
   "execution_count": null,
   "metadata": {},
   "outputs": [],
   "source": [
    "'''\n",
    "'BuPu', 'BuPu_r', 'CMRmap', 'CMRmap_r', 'Dark2', 'Dark2_r', 'GnBu', 'GnBu_r', 'Greens', 'Greens_r', 'Greys', 'Greys_r', 'OrRd', \n",
    "'OrRd_r', 'Oranges', 'Oranges_r', 'PRGn', 'PRGn_r', 'Paired', 'Paired_r', 'Pastel1', 'Pastel1_r', 'Pastel2', 'Pastel2_r', 'PiYG', \n",
    "'PiYG_r', 'PuBu', 'PuBuGn', 'PuBuGn_r', 'PuBu_r', 'PuOr', 'PuOr_r', 'PuRd', 'PuRd_r', 'Purples', 'Purples_r', 'RdBu', 'RdBu_r', \n",
    "'RdGy', 'RdGy_r', 'RdPu', 'RdPu_r', 'RdYlBu', 'RdYlBu_r', 'RdYlGn', 'RdYlGn_r', 'Reds', 'Reds_r', 'Set1', 'Set1_r', 'Set2', 'Set2_r', \n",
    "'Set3', 'Set3_r', 'Spectral', 'Spectral_r', 'Wistia', 'Wistia_r', 'YlGn', 'YlGnBu', 'YlGnBu_r', 'YlGn_r', 'YlOrBr', 'YlOrBr_r', \n",
    "'YlOrRd', 'YlOrRd_r', 'afmhot', 'afmhot_r', 'autumn', 'autumn_r', 'binary', 'binary_r', 'bone', 'bone_r', 'brg', 'brg_r', 'bwr', \n",
    "'bwr_r', 'cividis', 'cividis_r', 'cool', 'cool_r', 'coolwarm', 'coolwarm_r', 'copper', 'copper_r', 'crest', 'crest_r', 'cubehelix', \n",
    "'cubehelix_r', 'flag', 'flag_r', 'flare', 'flare_r', 'gist_earth', 'gist_earth_r', 'gist_gray', 'gist_gray_r', 'gist_heat', 'gist_heat_r', \n",
    "'gist_ncar', 'gist_ncar_r', 'gist_rainbow', 'gist_rainbow_r', 'gist_stern', 'gist_stern_r', 'gist_yarg', 'gist_yarg_r', 'gnuplot', \n",
    "'gnuplot2', 'gnuplot2_r', 'gnuplot_r', 'gray', 'gray_r', 'hot', 'hot_r', 'hsv', 'hsv_r', 'icefire', 'icefire_r', 'inferno', 'inferno_r', \n",
    "'jet', 'jet_r', 'magma', 'magma_r', 'mako', 'mako_r', 'nipy_spectral', 'nipy_spectral_r', 'ocean', 'ocean_r', 'pink', 'pink_r', 'plasma', \n",
    "'plasma_r', 'prism', 'prism_r', 'rainbow', 'rainbow_r', 'rocket', 'rocket_r', 'seismic', 'seismic_r', 'spring', 'spring_r', 'summer', \n",
    "'summer_r', 'tab10', 'tab10_r', 'tab20', 'tab20_r', 'tab20b', 'tab20b_r', 'tab20c', 'tab20c_r', 'terrain', 'terrain_r', 'turbo', 'turbo_r', \n",
    "'twilight', 'twilight_r', 'twilight_shifted', 'twilight_shifted_r', 'viridis', 'viridis_r', 'vlag', 'vlag_r', 'winter', 'winter_r'\n",
    "'''"
   ]
  },
  {
   "cell_type": "code",
   "execution_count": 97,
   "metadata": {},
   "outputs": [
    {
     "data": {
      "text/plain": [
       "Text(0.5, 0, 'Site')"
      ]
     },
     "execution_count": 97,
     "metadata": {},
     "output_type": "execute_result"
    },
    {
     "data": {
      "image/png": "[encoded data removed]",
      "text/plain": [
       "<Figure size 864x432 with 1 Axes>"
      ]
     },
     "metadata": {},
     "output_type": "display_data"
    }
   ],
   "source": [
    "sns.set(style='whitegrid')\n",
    "plt.figure(figsize=(12,6))\n",
    "ax = sns.boxplot(x = 'site',y='mean',hue='method',data=boxplot_all, palette=\"Spectral\",linewidth=1.5)\n",
    "ax.set_ylabel(\"AUROC\",fontsize=15)\n",
    "ax.set_xlabel(\"Site\",fontsize=15)"
   ]
  },
  {
   "cell_type": "code",
   "execution_count": 42,
   "metadata": {},
   "outputs": [
    {
     "data": {
      "text/plain": [
       "Text(0.5, 0, 'Site')"
      ]
     },
     "execution_count": 42,
     "metadata": {},
     "output_type": "execute_result"
    },
    {
     "data": {
      "image/png": "[encoded data removed]",
      "text/plain": [
       "<Figure size 864x432 with 1 Axes>"
      ]
     },
     "metadata": {},
     "output_type": "display_data"
    }
   ],
   "source": [
    "sns.set(style='whitegrid')\n",
    "plt.figure(figsize=(12,6))\n",
    "ax = sns.boxplot(x = 'site',y='mean',hue='method',data=boxplot2, palette=\"Set3\",linewidth=1.5)\n",
    "ax.set_ylabel(\"AUROC\",fontsize=15)\n",
    "ax.set_xlabel(\"Site\",fontsize=15)"
   ]
  },
  {
   "cell_type": "code",
   "execution_count": 3,
   "metadata": {},
   "outputs": [],
   "source": [
    "import scipy.stats as stats\n",
    "from scipy.stats import shapiro\n",
    "site2 = df[df['site'] == 'site 2']\n",
    "site3 = df[df['site'] == 'site 3']\n",
    "site6 = df[df['site'] == 'site 6']\n",
    "site8 = df[df['site'] == 'site 8']\n",
    "\n",
    "def split_method(df):\n",
    "    fl = df[df['method'] == 'Federated Learning']\n",
    "    cl = df[df['method'] == 'Centralized Learning']\n",
    "    tl = df[df['method'] == 'Transfer Learning']\n",
    "    ll = df[df['method'] == 'Localized Learning']\n",
    "    return fl, cl, tl, ll\n",
    "\n",
    "def check_distribution(df):\n",
    "    print(np.unique(df.site))\n",
    "    '''fl = df[df['method'] == 'Federated Learning']\n",
    "    cl = df[df['method'] == 'Centralized Learning']\n",
    "    tl = df[df['method'] == 'Transfer Learning']\n",
    "    ll = df[df['method'] == 'Localized Learning']'''\n",
    "    fl, cl,tl,ll = split_method(df)\n",
    "    for i,j in zip([fl, cl,tl,ll],['Federated Learning','Centralized Learning','Transfer Learning','Localized Learning']):\n",
    "        stat,p = shapiro(i['mean'])\n",
    "        if p > 0.05:\n",
    "            print(f'{j} pvalue={p} --> normal distribution')\n",
    "        else:\n",
    "            print(f'{j} pvalue={p} --> non-normal distribution')\n",
    "    return"
   ]
  },
  {
   "cell_type": "code",
   "execution_count": 4,
   "metadata": {},
   "outputs": [
    {
     "name": "stdout",
     "output_type": "stream",
     "text": [
      "['site 2']\n",
      "Federated Learning pvalue=0.0017631060909479856 --> non-normal distribution\n",
      "Centralized Learning pvalue=0.3214898109436035 --> normal distribution\n",
      "Transfer Learning pvalue=0.08616319298744202 --> normal distribution\n",
      "Localized Learning pvalue=0.012976951897144318 --> non-normal distribution\n",
      "['site 3']\n",
      "Federated Learning pvalue=0.11725518107414246 --> normal distribution\n",
      "Centralized Learning pvalue=0.23619839549064636 --> normal distribution\n",
      "Transfer Learning pvalue=0.11769670248031616 --> normal distribution\n",
      "Localized Learning pvalue=0.11769670248031616 --> normal distribution\n",
      "['site 6']\n",
      "Federated Learning pvalue=0.10238077491521835 --> normal distribution\n",
      "Centralized Learning pvalue=0.48916685581207275 --> normal distribution\n",
      "Transfer Learning pvalue=0.039354193955659866 --> non-normal distribution\n",
      "Localized Learning pvalue=0.49258142709732056 --> normal distribution\n",
      "['site 8']\n",
      "Federated Learning pvalue=0.9033615589141846 --> normal distribution\n",
      "Centralized Learning pvalue=0.9886645674705505 --> normal distribution\n",
      "Transfer Learning pvalue=0.3441939055919647 --> normal distribution\n",
      "Localized Learning pvalue=0.6154657006263733 --> normal distribution\n"
     ]
    }
   ],
   "source": [
    "check_distribution(site2) #-->kruskal wallis\n",
    "check_distribution(site3) #-->anova\n",
    "check_distribution(site6) #-->kruskal wallis\n",
    "check_distribution(site8) #-->anova"
   ]
  },
  {
   "cell_type": "markdown",
   "metadata": {},
   "source": [
    "# Site 2, 6 Kruskal Wallis"
   ]
  },
  {
   "cell_type": "code",
   "execution_count": 100,
   "metadata": {},
   "outputs": [
    {
     "name": "stdout",
     "output_type": "stream",
     "text": [
      "['site 2']\n",
      "9.124440742718965e-10 , rejected h0\n",
      "['site 6']\n",
      "0.0037720528160807795 , rejected h0\n"
     ]
    }
   ],
   "source": [
    "import scikit_posthocs as sp\n",
    "def kruskal_wallis(df):\n",
    "    print(np.unique(df.site))\n",
    "    fl,cl,tl,ll = split_method(df)\n",
    "    result = stats.kruskal(fl['mean'], cl['mean'], tl['mean'], ll['mean'])\n",
    "    if result[1] < 0.05:\n",
    "        print(f'{result[1]} , rejected h0')\n",
    "    else:\n",
    "        print(f'{result[1]} , do not rejected h0')\n",
    "    # post hoc\n",
    "    data = [fl['mean'], cl['mean'], tl['mean'], ll['mean']]\n",
    "    \n",
    "    p_values= sp.posthoc_dunn(df, val_col='mean', group_col='method')\n",
    "    #p_values = sp.posthoc_conover(df, val_col='mean', group_col='method')\n",
    "    p_values = pd.DataFrame(p_values)\n",
    "    p_values = p_values.rename(columns={1:\"Federated\",2:\"Centralized\",3:\"Transfered\",4:\"Localized\"},index={1:\"Federated\",2:\"Centralized\",3:\"Transfered\",4:\"Localized\"})\n",
    "    #print(p_values < 0.05)\n",
    "    return pd.DataFrame(p_values)\n",
    "\n",
    "site2_p_value = kruskal_wallis(site2)\n",
    "site6_p_value = kruskal_wallis(site6)"
   ]
  },
  {
   "cell_type": "code",
   "execution_count": 103,
   "metadata": {},
   "outputs": [
    {
     "data": {
      "text/html": [
       "<div>\n",
       "<style scoped>\n",
       "    .dataframe tbody tr th:only-of-type {\n",
       "        vertical-align: middle;\n",
       "    }\n",
       "\n",
       "    .dataframe tbody tr th {\n",
       "        vertical-align: top;\n",
       "    }\n",
       "\n",
       "    .dataframe thead th {\n",
       "        text-align: right;\n",
       "    }\n",
       "</style>\n",
       "<table border=\"1\" class=\"dataframe\">\n",
       "  <thead>\n",
       "    <tr style=\"text-align: right;\">\n",
       "      <th></th>\n",
       "      <th>Centralized Learning</th>\n",
       "      <th>Federated Learning</th>\n",
       "      <th>Localized Learning</th>\n",
       "      <th>Transfer Learning</th>\n",
       "    </tr>\n",
       "  </thead>\n",
       "  <tbody>\n",
       "    <tr>\n",
       "      <th>Centralized Learning</th>\n",
       "      <td>1.000000e+00</td>\n",
       "      <td>9.576395e-09</td>\n",
       "      <td>1.131978e-08</td>\n",
       "      <td>0.000002</td>\n",
       "    </tr>\n",
       "    <tr>\n",
       "      <th>Federated Learning</th>\n",
       "      <td>9.576395e-09</td>\n",
       "      <td>1.000000e+00</td>\n",
       "      <td>9.773437e-01</td>\n",
       "      <td>0.329305</td>\n",
       "    </tr>\n",
       "    <tr>\n",
       "      <th>Localized Learning</th>\n",
       "      <td>1.131978e-08</td>\n",
       "      <td>9.773437e-01</td>\n",
       "      <td>1.000000e+00</td>\n",
       "      <td>0.343580</td>\n",
       "    </tr>\n",
       "    <tr>\n",
       "      <th>Transfer Learning</th>\n",
       "      <td>1.911600e-06</td>\n",
       "      <td>3.293055e-01</td>\n",
       "      <td>3.435804e-01</td>\n",
       "      <td>1.000000</td>\n",
       "    </tr>\n",
       "  </tbody>\n",
       "</table>\n",
       "</div>"
      ],
      "text/plain": [
       "                      Centralized Learning  Federated Learning  \\\n",
       "Centralized Learning          1.000000e+00        9.576395e-09   \n",
       "Federated Learning            9.576395e-09        1.000000e+00   \n",
       "Localized Learning            1.131978e-08        9.773437e-01   \n",
       "Transfer Learning             1.911600e-06        3.293055e-01   \n",
       "\n",
       "                      Localized Learning  Transfer Learning  \n",
       "Centralized Learning        1.131978e-08           0.000002  \n",
       "Federated Learning          9.773437e-01           0.329305  \n",
       "Localized Learning          1.000000e+00           0.343580  \n",
       "Transfer Learning           3.435804e-01           1.000000  "
      ]
     },
     "execution_count": 103,
     "metadata": {},
     "output_type": "execute_result"
    }
   ],
   "source": [
    "site2_p_value"
   ]
  },
  {
   "cell_type": "code",
   "execution_count": 104,
   "metadata": {},
   "outputs": [
    {
     "data": {
      "text/html": [
       "<div>\n",
       "<style scoped>\n",
       "    .dataframe tbody tr th:only-of-type {\n",
       "        vertical-align: middle;\n",
       "    }\n",
       "\n",
       "    .dataframe tbody tr th {\n",
       "        vertical-align: top;\n",
       "    }\n",
       "\n",
       "    .dataframe thead th {\n",
       "        text-align: right;\n",
       "    }\n",
       "</style>\n",
       "<table border=\"1\" class=\"dataframe\">\n",
       "  <thead>\n",
       "    <tr style=\"text-align: right;\">\n",
       "      <th></th>\n",
       "      <th>Centralized Learning</th>\n",
       "      <th>Federated Learning</th>\n",
       "      <th>Localized Learning</th>\n",
       "      <th>Transfer Learning</th>\n",
       "    </tr>\n",
       "  </thead>\n",
       "  <tbody>\n",
       "    <tr>\n",
       "      <th>Centralized Learning</th>\n",
       "      <td>1.000000</td>\n",
       "      <td>0.013977</td>\n",
       "      <td>0.847988</td>\n",
       "      <td>0.309321</td>\n",
       "    </tr>\n",
       "    <tr>\n",
       "      <th>Federated Learning</th>\n",
       "      <td>0.013977</td>\n",
       "      <td>1.000000</td>\n",
       "      <td>0.008060</td>\n",
       "      <td>0.000512</td>\n",
       "    </tr>\n",
       "    <tr>\n",
       "      <th>Localized Learning</th>\n",
       "      <td>0.847988</td>\n",
       "      <td>0.008060</td>\n",
       "      <td>1.000000</td>\n",
       "      <td>0.409394</td>\n",
       "    </tr>\n",
       "    <tr>\n",
       "      <th>Transfer Learning</th>\n",
       "      <td>0.309321</td>\n",
       "      <td>0.000512</td>\n",
       "      <td>0.409394</td>\n",
       "      <td>1.000000</td>\n",
       "    </tr>\n",
       "  </tbody>\n",
       "</table>\n",
       "</div>"
      ],
      "text/plain": [
       "                      Centralized Learning  Federated Learning  \\\n",
       "Centralized Learning              1.000000            0.013977   \n",
       "Federated Learning                0.013977            1.000000   \n",
       "Localized Learning                0.847988            0.008060   \n",
       "Transfer Learning                 0.309321            0.000512   \n",
       "\n",
       "                      Localized Learning  Transfer Learning  \n",
       "Centralized Learning            0.847988           0.309321  \n",
       "Federated Learning              0.008060           0.000512  \n",
       "Localized Learning              1.000000           0.409394  \n",
       "Transfer Learning               0.409394           1.000000  "
      ]
     },
     "execution_count": 104,
     "metadata": {},
     "output_type": "execute_result"
    }
   ],
   "source": [
    "site6_p_value"
   ]
  },
  {
   "cell_type": "markdown",
   "metadata": {},
   "source": [
    "# Site 3, 8 ANOVA"
   ]
  },
  {
   "cell_type": "code",
   "execution_count": 53,
   "metadata": {},
   "outputs": [],
   "source": [
    "import statsmodels.stats.multicomp as mc\n",
    "def oneway_anova(df):\n",
    "    print(f'{np.unique(df.site)} anova analysis result : ')\n",
    "    fl, cl, tl, ll = split_method(df)\n",
    "    # one - way anova\n",
    "    result = scipy.stats.f_oneway(fl['mean'], cl['mean'], tl['mean'], ll['mean'])  \n",
    "    if result[1] < 0.05:\n",
    "        print(f'{result[1]} , rejected h0')\n",
    "    else:\n",
    "        print(f'{result[1]} , do not rejected h0')\n",
    "    # post hoc\n",
    "    comp = mc.MultiComparison(df['mean'],df['method'])\n",
    "    # bonferroni\n",
    "    tbl_bonf, _, _ = comp.allpairtest(stats.ttest_ind, method= \"bonf\")\n",
    "    print(tbl_bonf)\n",
    "    # sidak\n",
    "    tbl_sidak, _, _ = comp.allpairtest(stats.ttest_ind, method= \"sidak\")\n",
    "    print(tbl_sidak)\n",
    "    \n",
    "    # tukey \n",
    "    post_hoc_res = comp.tukeyhsd()\n",
    "    print(post_hoc_res.summary())\n",
    "    # scheffe\n",
    "    return"
   ]
  },
  {
   "cell_type": "code",
   "execution_count": 58,
   "metadata": {},
   "outputs": [
    {
     "name": "stdout",
     "output_type": "stream",
     "text": [
      "['site 3'] anova analysis result : \n",
      "0.3674407613282215 , do not rejected h0\n",
      "Test Multiple Comparison ttest_ind \n",
      "FWER=0.05 method=bonf\n",
      "alphacSidak=0.01, alphacBonf=0.008\n",
      "======================================================================\n",
      "       group1              group2        stat   pval  pval_corr reject\n",
      "----------------------------------------------------------------------\n",
      "Centralized Learning Federated Learning 1.1032 0.2723       1.0  False\n",
      "Centralized Learning Localized Learning  1.522 0.1308    0.7849  False\n",
      "Centralized Learning  Transfer Learning  1.522 0.1308    0.7849  False\n",
      "  Federated Learning Localized Learning 0.4504 0.6533       1.0  False\n",
      "  Federated Learning  Transfer Learning 0.4504 0.6533       1.0  False\n",
      "  Localized Learning  Transfer Learning    0.0    1.0       1.0  False\n",
      "----------------------------------------------------------------------\n",
      "Test Multiple Comparison ttest_ind \n",
      "FWER=0.05 method=sidak\n",
      "alphacSidak=0.01, alphacBonf=0.008\n",
      "======================================================================\n",
      "       group1              group2        stat   pval  pval_corr reject\n",
      "----------------------------------------------------------------------\n",
      "Centralized Learning Federated Learning 1.1032 0.2723    0.8515  False\n",
      "Centralized Learning Localized Learning  1.522 0.1308    0.5688  False\n",
      "Centralized Learning  Transfer Learning  1.522 0.1308    0.5688  False\n",
      "  Federated Learning Localized Learning 0.4504 0.6533    0.9983  False\n",
      "  Federated Learning  Transfer Learning 0.4504 0.6533    0.9983  False\n",
      "  Localized Learning  Transfer Learning    0.0    1.0       1.0  False\n",
      "----------------------------------------------------------------------\n"
     ]
    },
    {
     "name": "stderr",
     "output_type": "stream",
     "text": [
      "c:\\Users\\refuhung\\anaconda3\\envs\\tf2.8.0\\lib\\site-packages\\statsmodels\\stats\\multitest.py:155: RuntimeWarning: divide by zero encountered in log1p\n",
      "  pvals_corrected = -np.expm1(ntests * np.log1p(-pvals))\n"
     ]
    },
    {
     "name": "stdout",
     "output_type": "stream",
     "text": [
      "             Multiple Comparison of Means - Tukey HSD, FWER=0.05             \n",
      "=============================================================================\n",
      "       group1              group2       meandiff p-adj   lower  upper  reject\n",
      "-----------------------------------------------------------------------------\n",
      "Centralized Learning Federated Learning   -0.007 0.6916 -0.0235 0.0095  False\n",
      "Centralized Learning Localized Learning  -0.0098 0.4144 -0.0263 0.0067  False\n",
      "Centralized Learning  Transfer Learning  -0.0098 0.4144 -0.0263 0.0067  False\n",
      "  Federated Learning Localized Learning  -0.0028 0.9706 -0.0193 0.0136  False\n",
      "  Federated Learning  Transfer Learning  -0.0028 0.9706 -0.0193 0.0136  False\n",
      "  Localized Learning  Transfer Learning      0.0    1.0 -0.0165 0.0165  False\n",
      "-----------------------------------------------------------------------------\n"
     ]
    }
   ],
   "source": [
    "oneway_anova(site3)"
   ]
  },
  {
   "cell_type": "code",
   "execution_count": 56,
   "metadata": {},
   "outputs": [
    {
     "name": "stdout",
     "output_type": "stream",
     "text": [
      "['site 8'] anova analysis result : \n",
      "0.19642807140919463 , do not rejected h0\n",
      "Test Multiple Comparison ttest_ind \n",
      "FWER=0.05 method=bonf\n",
      "alphacSidak=0.01, alphacBonf=0.008\n",
      "=======================================================================\n",
      "       group1              group2         stat   pval  pval_corr reject\n",
      "-----------------------------------------------------------------------\n",
      "Centralized Learning Federated Learning -1.3742 0.1721       1.0  False\n",
      "Centralized Learning Localized Learning  0.6976 0.4869       1.0  False\n",
      "Centralized Learning  Transfer Learning  0.2237 0.8234       1.0  False\n",
      "  Federated Learning Localized Learning  2.0713 0.0406    0.2438  False\n",
      "  Federated Learning  Transfer Learning  1.5962 0.1133    0.6796  False\n",
      "  Localized Learning  Transfer Learning -0.4731 0.6371       1.0  False\n",
      "-----------------------------------------------------------------------\n",
      "Test Multiple Comparison ttest_ind \n",
      "FWER=0.05 method=sidak\n",
      "alphacSidak=0.01, alphacBonf=0.008\n",
      "=======================================================================\n",
      "       group1              group2         stat   pval  pval_corr reject\n",
      "-----------------------------------------------------------------------\n",
      "Centralized Learning Federated Learning -1.3742 0.1721     0.678  False\n",
      "Centralized Learning Localized Learning  0.6976 0.4869    0.9817  False\n",
      "Centralized Learning  Transfer Learning  0.2237 0.8234       1.0  False\n",
      "  Federated Learning Localized Learning  2.0713 0.0406    0.2203  False\n",
      "  Federated Learning  Transfer Learning  1.5962 0.1133    0.5139  False\n",
      "  Localized Learning  Transfer Learning -0.4731 0.6371    0.9977  False\n",
      "-----------------------------------------------------------------------\n",
      "             Multiple Comparison of Means - Tukey HSD, FWER=0.05             \n",
      "=============================================================================\n",
      "       group1              group2       meandiff p-adj   lower  upper  reject\n",
      "-----------------------------------------------------------------------------\n",
      "Centralized Learning Federated Learning    0.018 0.5207 -0.0161 0.0521  False\n",
      "Centralized Learning Localized Learning  -0.0092 0.8972 -0.0433 0.0249  False\n",
      "Centralized Learning  Transfer Learning   -0.003  0.996 -0.0371 0.0311  False\n",
      "  Federated Learning Localized Learning  -0.0272  0.167 -0.0613 0.0069  False\n",
      "  Federated Learning  Transfer Learning   -0.021 0.3851 -0.0551 0.0131  False\n",
      "  Localized Learning  Transfer Learning   0.0063 0.9645 -0.0278 0.0404  False\n",
      "-----------------------------------------------------------------------------\n"
     ]
    }
   ],
   "source": [
    "oneway_anova(site8)"
   ]
  },
  {
   "cell_type": "code",
   "execution_count": 14,
   "metadata": {},
   "outputs": [
    {
     "data": {
      "text/plain": [
       "<AxesSubplot:>"
      ]
     },
     "execution_count": 14,
     "metadata": {},
     "output_type": "execute_result"
    },
    {
     "data": {
      "image/png": "[encoded data removed]",
      "text/plain": [
       "<Figure size 432x288 with 1 Axes>"
      ]
     },
     "metadata": {
      "needs_background": "light"
     },
     "output_type": "display_data"
    }
   ],
   "source": [
    "import pandas as pd\n",
    "import seaborn as sns\n",
    "df = pd.read_csv('/home/refu0917/lungcancer/remote_output1/output_folder/fl_auc_df9.csv')\n",
    "df = df.T\n",
    "sns.lineplot(data=df.mean())"
   ]
  }
 ],
 "metadata": {
  "kernelspec": {
   "display_name": "Python 3.8.10 64-bit",
   "language": "python",
   "name": "python3"
  },
  "language_info": {
   "codemirror_mode": {
    "name": "ipython",
    "version": 3
   },
   "file_extension": ".py",
   "mimetype": "text/x-python",
   "name": "python",
   "nbconvert_exporter": "python",
   "pygments_lexer": "ipython3",
   "version": "3.8.10"
  },
  "orig_nbformat": 4,
  "vscode": {
   "interpreter": {
    "hash": "916dbcbb3f70747c44a77c7bcd40155683ae19c65e1c03b4aa3499c5328201f1"
   }
  }
 },
 "nbformat": 4,
 "nbformat_minor": 2
}
