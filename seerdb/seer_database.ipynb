{
 "cells": [
  {
   "cell_type": "code",
   "execution_count": 17,
   "metadata": {},
   "outputs": [
    {
     "name": "stdout",
     "output_type": "stream",
     "text": [
      "7351789\n"
     ]
    }
   ],
   "source": [
    "import pandas as pd\n",
    "#df = pd.read_csv(r'/home/refu0917/lungcancer/seerdb/csv_folder/seer_reg13.csv')\n",
    "df = pd.read_csv(r'/home/refu0917/lungcancer/seerdb/csv_folder/seer_reg17.csv',index_col=[0])\n",
    "rename_dict = {'Patient ID':'id',\n",
    "            'Site recode ICD-O-3/WHO 2008':'site',\n",
    "            'Sequence number':'seq_number',\n",
    "            'Sex' : 'Gender',\n",
    "            'Year of diagnosis' : 'diag_year',\n",
    "            'Age recode with <1 year olds':'Age',\n",
    "            'CS tumor size (2004-2015)':'TMRSZ',\n",
    "            'Regional nodes positive (1988+)':'LYMND',\n",
    "            'Derived AJCC Stage Group, 7th ed (2010-2015)':'AJCCstage',\n",
    "            'Visceral and Parietal Pleural Invasion Recode (2010+)':'SSF2',\n",
    "            'Separate Tumor Nodules Ipsilateral Lung Recode (2010+)':'SSF1',\n",
    "            'Grade (thru 2017)':'DIFF',\n",
    "            'Survival months':'survival_month',\n",
    "            'Vital status recode (study cutoff used)': 'vital_sts',\n",
    "            'ICD-O-3 Hist/behav, malignant': 'histologic',\n",
    "            'Behavior code ICD-O-3' : 'behavior',\n",
    "            'Regional nodes examined (1988+)' : 'LYMND_exm',\n",
    "            'Primary Site - labeled':'primary_site',\n",
    "            'Survival months flag': 'survival_month_flag'}\n",
    "df = df.rename(columns=rename_dict)\n",
    "\n",
    "df['histologic'] = df['histologic'].apply(lambda x:x[:6])\n",
    "df['primary_site'] = df['primary_site'].apply(lambda x:x[:5])\n",
    "df = df[df['survival_month'] !='Unknown']\n",
    "df['survival_month'] = df['survival_month'].astype('int')\n",
    "df = df.drop(columns=['Patient ID.1'])\n",
    "print(len(df))"
   ]
  },
  {
   "cell_type": "code",
   "execution_count": 9,
   "metadata": {},
   "outputs": [
    {
     "data": {
      "text/html": [
       "<div>\n",
       "<style scoped>\n",
       "    .dataframe tbody tr th:only-of-type {\n",
       "        vertical-align: middle;\n",
       "    }\n",
       "\n",
       "    .dataframe tbody tr th {\n",
       "        vertical-align: top;\n",
       "    }\n",
       "\n",
       "    .dataframe thead th {\n",
       "        text-align: right;\n",
       "    }\n",
       "</style>\n",
       "<table border=\"1\" class=\"dataframe\">\n",
       "  <thead>\n",
       "    <tr style=\"text-align: right;\">\n",
       "      <th></th>\n",
       "      <th>id</th>\n",
       "      <th>seq_number</th>\n",
       "      <th>primary_site</th>\n",
       "      <th>Age</th>\n",
       "      <th>histologic</th>\n",
       "      <th>Gender</th>\n",
       "      <th>diag_year</th>\n",
       "      <th>AJCCstage</th>\n",
       "      <th>DIFF</th>\n",
       "      <th>TMRSZ</th>\n",
       "      <th>SSF2</th>\n",
       "      <th>SSF1</th>\n",
       "      <th>LYMND</th>\n",
       "      <th>survival_month</th>\n",
       "      <th>survival_month_flag</th>\n",
       "    </tr>\n",
       "  </thead>\n",
       "  <tbody>\n",
       "    <tr>\n",
       "      <th>0</th>\n",
       "      <td>21</td>\n",
       "      <td>2nd of 2 or more primaries</td>\n",
       "      <td>C62.9</td>\n",
       "      <td>40-44 years</td>\n",
       "      <td>9061/3</td>\n",
       "      <td>Male</td>\n",
       "      <td>2002</td>\n",
       "      <td>Blank(s)</td>\n",
       "      <td>Unknown</td>\n",
       "      <td>Blank(s)</td>\n",
       "      <td>Blank(s)</td>\n",
       "      <td>Blank(s)</td>\n",
       "      <td>98</td>\n",
       "      <td>208</td>\n",
       "      <td>1</td>\n",
       "    </tr>\n",
       "    <tr>\n",
       "      <th>1</th>\n",
       "      <td>24</td>\n",
       "      <td>2nd of 2 or more primaries</td>\n",
       "      <td>C20.9</td>\n",
       "      <td>65-69 years</td>\n",
       "      <td>8140/3</td>\n",
       "      <td>Male</td>\n",
       "      <td>2000</td>\n",
       "      <td>Blank(s)</td>\n",
       "      <td>Well differentiated; Grade I</td>\n",
       "      <td>Blank(s)</td>\n",
       "      <td>Blank(s)</td>\n",
       "      <td>Blank(s)</td>\n",
       "      <td>0</td>\n",
       "      <td>49</td>\n",
       "      <td>1</td>\n",
       "    </tr>\n",
       "    <tr>\n",
       "      <th>2</th>\n",
       "      <td>30</td>\n",
       "      <td>2nd of 2 or more primaries</td>\n",
       "      <td>C19.9</td>\n",
       "      <td>35-39 years</td>\n",
       "      <td>8140/3</td>\n",
       "      <td>Female</td>\n",
       "      <td>2008</td>\n",
       "      <td>Blank(s)</td>\n",
       "      <td>Moderately differentiated; Grade II</td>\n",
       "      <td>035</td>\n",
       "      <td>Blank(s)</td>\n",
       "      <td>Blank(s)</td>\n",
       "      <td>1</td>\n",
       "      <td>143</td>\n",
       "      <td>1</td>\n",
       "    </tr>\n",
       "    <tr>\n",
       "      <th>3</th>\n",
       "      <td>43</td>\n",
       "      <td>2nd of 2 or more primaries</td>\n",
       "      <td>C38.1</td>\n",
       "      <td>60-64 years</td>\n",
       "      <td>8801/3</td>\n",
       "      <td>Female</td>\n",
       "      <td>2008</td>\n",
       "      <td>Blank(s)</td>\n",
       "      <td>Well differentiated; Grade I</td>\n",
       "      <td>090</td>\n",
       "      <td>Blank(s)</td>\n",
       "      <td>Blank(s)</td>\n",
       "      <td>98</td>\n",
       "      <td>0</td>\n",
       "      <td>1</td>\n",
       "    </tr>\n",
       "    <tr>\n",
       "      <th>4</th>\n",
       "      <td>52</td>\n",
       "      <td>2nd of 2 or more primaries</td>\n",
       "      <td>C44.4</td>\n",
       "      <td>85+ years</td>\n",
       "      <td>8742/3</td>\n",
       "      <td>Male</td>\n",
       "      <td>2008</td>\n",
       "      <td>Blank(s)</td>\n",
       "      <td>Unknown</td>\n",
       "      <td>999</td>\n",
       "      <td>Blank(s)</td>\n",
       "      <td>Blank(s)</td>\n",
       "      <td>98</td>\n",
       "      <td>26</td>\n",
       "      <td>1</td>\n",
       "    </tr>\n",
       "  </tbody>\n",
       "</table>\n",
       "</div>"
      ],
      "text/plain": [
       "   id                  seq_number primary_site          Age histologic  \\\n",
       "0  21  2nd of 2 or more primaries        C62.9  40-44 years     9061/3   \n",
       "1  24  2nd of 2 or more primaries        C20.9  65-69 years     8140/3   \n",
       "2  30  2nd of 2 or more primaries        C19.9  35-39 years     8140/3   \n",
       "3  43  2nd of 2 or more primaries        C38.1  60-64 years     8801/3   \n",
       "4  52  2nd of 2 or more primaries        C44.4    85+ years     8742/3   \n",
       "\n",
       "   Gender  diag_year AJCCstage                                 DIFF     TMRSZ  \\\n",
       "0    Male       2002  Blank(s)                              Unknown  Blank(s)   \n",
       "1    Male       2000  Blank(s)         Well differentiated; Grade I  Blank(s)   \n",
       "2  Female       2008  Blank(s)  Moderately differentiated; Grade II       035   \n",
       "3  Female       2008  Blank(s)         Well differentiated; Grade I       090   \n",
       "4    Male       2008  Blank(s)                              Unknown       999   \n",
       "\n",
       "       SSF2      SSF1  LYMND  survival_month  survival_month_flag  \n",
       "0  Blank(s)  Blank(s)     98             208                    1  \n",
       "1  Blank(s)  Blank(s)      0              49                    1  \n",
       "2  Blank(s)  Blank(s)      1             143                    1  \n",
       "3  Blank(s)  Blank(s)     98               0                    1  \n",
       "4  Blank(s)  Blank(s)     98              26                    1  "
      ]
     },
     "execution_count": 9,
     "metadata": {},
     "output_type": "execute_result"
    }
   ],
   "source": [
    "df.head()"
   ]
  },
  {
   "cell_type": "code",
   "execution_count": 18,
   "metadata": {},
   "outputs": [
    {
     "name": "stdout",
     "output_type": "stream",
     "text": [
      "6201005 1150784\n",
      "2338834\n",
      "467793\n",
      "448100\n"
     ]
    }
   ],
   "source": [
    "ipc = df[(df.seq_number == 'One primary only') | (df.seq_number == '1st of 2 or more primaries')]\n",
    "spm = df[df.seq_number == '2nd of 2 or more primaries']\n",
    "#ipc = ipc[(ipc.diag_year <=2010) & (ipc.diag_year >=2004)]\n",
    "#spm = spm[spm.diag_year >= 2004]\n",
    "print(len(ipc), len(spm))\n",
    "\n",
    "ipc = ipc.loc[ipc['histologic'].isin(['8012/3', '8046/3', '8070/3', '8140/3', '8240/3', '8250/3', '8560/3', '9053/3'])]\n",
    "print(len(ipc))\n",
    "ipc = ipc.loc[ipc['primary_site'].isin(['C33.9', 'C34.0', 'C34.1', 'C34.2', 'C34.3', 'C34.8' ,'C34.9'])]\n",
    "print(len(ipc))\n",
    "ipc = ipc[ipc['survival_month_flag'] == 1]\n",
    "print(len(ipc))\n"
   ]
  },
  {
   "cell_type": "code",
   "execution_count": 19,
   "metadata": {},
   "outputs": [
    {
     "name": "stdout",
     "output_type": "stream",
     "text": [
      "22952\n"
     ]
    }
   ],
   "source": [
    "'''ipc_flwup = ipc[ipc['survival_month'] !='Unknown']\n",
    "ipc_flwup['survival_month'] = ipc_flwup['survival_month'].astype('int')\n",
    "ipc_flwup = ipc_flwup[ipc_flwup['survival_month']>=48]\n",
    "print(len(ipc_flwup))\n",
    "'''\n",
    "#spm = spm[spm['survival_month'] !='Unknown']\n",
    "#spm['survival_month'] = spm['survival_month'].astype('int')\n",
    "spm = spm[spm.id.isin(ipc.id.tolist())]\n",
    "spm = spm[spm.survival_month >=6]\n",
    "print(len(spm))"
   ]
  },
  {
   "cell_type": "code",
   "execution_count": 20,
   "metadata": {},
   "outputs": [
    {
     "name": "stdout",
     "output_type": "stream",
     "text": [
      "12036\n",
      "10916\n"
     ]
    }
   ],
   "source": [
    "rule1 = spm.loc[~spm['primary_site'].isin(['C33.9', 'C34.0', 'C34.1', 'C34.2', 'C34.3', 'C34.8' ,'C34.9'])]\n",
    "print(len(rule1))\n",
    "spm = spm.loc[spm['primary_site'].isin(['C33.9', 'C34.0', 'C34.1', 'C34.2', 'C34.3', 'C34.8' ,'C34.9'])]\n",
    "print(len(spm))"
   ]
  },
  {
   "cell_type": "code",
   "execution_count": 22,
   "metadata": {},
   "outputs": [
    {
     "name": "stdout",
     "output_type": "stream",
     "text": [
      "6630 4286\n",
      "2478 1808\n"
     ]
    }
   ],
   "source": [
    "spm['comp_histologic'] = ipc.loc[ipc.id.isin(spm.id.tolist())]['histologic'].tolist()\n",
    "spm['comp_diagyear'] = ipc.loc[ipc.id.isin(spm.id.tolist())]['diag_year'].tolist()\n",
    "\n",
    "rule2 = spm.loc[(spm['histologic']!=spm['comp_histologic'])]\n",
    "spm = spm.loc[(spm['histologic']==spm['comp_histologic'])]\n",
    "print(len(rule2), len(spm))\n",
    "rule3 = spm.loc[(spm['diag_year']-spm['comp_diagyear'])>=2]\n",
    "spm = spm.loc[(spm['diag_year']-spm['comp_diagyear']<2)]\n",
    "print(len(rule3), len(spm))"
   ]
  },
  {
   "cell_type": "code",
   "execution_count": 28,
   "metadata": {},
   "outputs": [],
   "source": [
    "rule2 = rule2.drop(columns=['comp_histologic'])\n",
    "rule3 = rule3.drop(columns=['comp_diagyear'])\n",
    "spc = pd.concat([rule1, rule2, rule3], axis = 0)\n",
    "ipc['Class'] = 0\n",
    "ipc.loc[ipc[ipc.id.isin(spc.id.tolist())].index,\"Class\"] = 1\n",
    "ipc.Class.value_counts()"
   ]
  },
  {
   "cell_type": "code",
   "execution_count": 58,
   "metadata": {},
   "outputs": [],
   "source": [
    "ipc['Age'] = ipc['Age'].apply(lambda x:int(x.split('-')[0][0]) if x[:2] != '85' else int(8))\n",
    "ipc = ipc.loc[~ipc['TMRSZ'].isin([888, 990, 996, 997, 998])]\n",
    "ipc = ipc.loc[~ipc['LYMND'].isin([95])]\n",
    "ipc = ipc.loc[~ipc['AJCCstage'].isin(['OCCULT'])]"
   ]
  },
  {
   "cell_type": "code",
   "execution_count": 60,
   "metadata": {},
   "outputs": [],
   "source": [
    "def regional_node_encode(x):\n",
    "    if x == 'Blank(s)':\n",
    "        return 999\n",
    "    elif x == 0 or x == 98:\n",
    "        return 1\n",
    "    elif x == 99 or x == 97:\n",
    "        return 9\n",
    "    elif 1<=x<=2:\n",
    "        return 2\n",
    "    elif 3<=x<=6:\n",
    "        return 3\n",
    "    elif 7<=x<=15:\n",
    "        return 4\n",
    "    elif 16<=x:\n",
    "        return 5\n",
    "\n",
    "def tumor_encode(size):\n",
    "    if size == 'Blank(s)':\n",
    "        return 999\n",
    "    size = int(size)\n",
    "    if size == 999:\n",
    "        return 9\n",
    "    elif size <= 49:\n",
    "        return 1\n",
    "    elif 50 <= size <= 99:\n",
    "        return 2\n",
    "    elif 100 <= size <= 149:\n",
    "        return 3\n",
    "    else:\n",
    "        return 4\n",
    "\n",
    "invasion_map_dict = {'PL0; No evidence; Tumor does not completely traverse the elastic layer of pleura':1,\n",
    "                    'Tumor extends to pleura, NOS; not stated if visceral or parietal':2,\n",
    "                    'PL1 or PL2; Invasion of visceral pleura present, NOS':2,\n",
    "                    'PL3; Tumor invades into or through the parietal pleura OR chest wall':2,\n",
    "                    'Not documented; No resection of primary; Not assessed or unknown if assessed':9,\n",
    "                    'Blank(s)':999}\n",
    "\n",
    "septumor_map_dict = {'None; No intrapulmonary mets; Foci in situ/minimally invasive adenocarcinoma':1,\n",
    "                    'Separate nodules of same hist type in ipsilateral lung, same lobe':2,\n",
    "                    'Separate nodules of same hist type in ipsilateral lung, different lobe':2,\n",
    "                    'Separate tumor nodules, ipsilateral lung, unknown if same or different lobe':2,\n",
    "                    'Separate nodules of same hist type in ipsilateral lung, same AND different lobes':2,\n",
    "                    'Not documented; Primary tumor is in situ; Not assessed or unknown if assessed':9,\n",
    "                    'Blank(s)':999}\n",
    "\n",
    "grade_map_dict = {'Moderately differentiated; Grade II':2,\n",
    "                  'Poorly differentiated; Grade III':3,          \n",
    "                  'Well differentiated; Grade I':1,             \n",
    "                  'Undifferentiated; anaplastic; Grade IV':4,\n",
    "                  'Unknown':9,\n",
    "                  'Blank(s)':999}\n",
    "gender_dict = {'Male':1, 'Female':2}\n",
    "\n",
    "ipc['Gender'] = ipc['Gender'].map(gender_dict)\n",
    "ipc['LYMND'] = ipc['LYMND'].map(regional_node_encode)\n",
    "ipc['TMRSZ'] = ipc['TMRSZ'].map(tumor_encode)\n",
    "ipc['SSF2'] = ipc['SSF2'].map(invasion_map_dict)\n",
    "ipc['SSF1'] = ipc['SSF1'].map(septumor_map_dict)\n",
    "ipc['DIFF'] = ipc['DIFF'].map(grade_map_dict)\n",
    "ipc['AJCCstage'] = ipc['AJCCstage'].replace('UNK Stage',9)\n",
    "ipc['AJCCstage'] = ipc['AJCCstage'].replace('Blank(s)',999)\n",
    "\n",
    "for i,j in zip(['V','III', 'II','I'], [4,3,2,1]):\n",
    "    index = ipc[ipc['AJCCstage'].str.contains(i,na=False)].index\n",
    "    ipc.loc[index,'AJCCstage'] = ipc[ipc['AJCCstage'].str.contains(i, na=False)]['AJCCstage'].apply(lambda x:j)\n",
    "\n",
    "ipc = ipc.fillna(999)\n",
    "ipc = ipc.drop(columns=['id','seq_number', 'primary_site', 'histologic', 'survival_month', 'survival_month_flag', 'diag_year'])"
   ]
  },
  {
   "cell_type": "code",
   "execution_count": 76,
   "metadata": {},
   "outputs": [],
   "source": [
    "ipc_no_null = ipc[ipc!=999]\n",
    "ipc_no_null = ipc_no_null.dropna()\n",
    "ipc_no_null.Class.value_counts()\n",
    "ipc_no_null['LOC'] = 9"
   ]
  },
  {
   "cell_type": "code",
   "execution_count": 87,
   "metadata": {},
   "outputs": [],
   "source": [
    "ipc_no_null.to_csv(r'/home/refu0917/lungcancer/data/seerdb.csv')"
   ]
  },
  {
   "cell_type": "code",
   "execution_count": 68,
   "metadata": {},
   "outputs": [],
   "source": [
    "from tableone import TableOne, load_dataset\n",
    "#drawe table one\n",
    "\n",
    "columns = [\"Class\",\"Gender\", \"Age\",\n",
    "        \"AJCCstage\", \"DIFF\", \"LYMND\", \"TMRSZ\",\n",
    "        \"SSF1\", \"SSF2\"]\n",
    "groupby = [\"Class\"]\n",
    "categorical = [\"Class\",\"Gender\", \"Age\",\n",
    "        \"AJCCstage\", \"DIFF\", \"LYMND\", \"TMRSZ\",\n",
    "        \"SSF1\", \"SSF2\"]\n",
    "seer_tableone = TableOne(ipc_no_null, columns=columns,categorical=categorical)\n",
    "seer_tableone.to_csv('seer_tableone.csv')"
   ]
  }
 ],
 "metadata": {
  "kernelspec": {
   "display_name": "Python 3.8.10 64-bit",
   "language": "python",
   "name": "python3"
  },
  "language_info": {
   "codemirror_mode": {
    "name": "ipython",
    "version": 3
   },
   "file_extension": ".py",
   "mimetype": "text/x-python",
   "name": "python",
   "nbconvert_exporter": "python",
   "pygments_lexer": "ipython3",
   "version": "3.8.10"
  },
  "orig_nbformat": 4,
  "vscode": {
   "interpreter": {
    "hash": "916dbcbb3f70747c44a77c7bcd40155683ae19c65e1c03b4aa3499c5328201f1"
   }
  }
 },
 "nbformat": 4,
 "nbformat_minor": 2
}
