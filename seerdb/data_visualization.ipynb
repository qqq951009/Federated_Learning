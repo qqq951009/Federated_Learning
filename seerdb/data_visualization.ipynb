{
 "cells": [
  {
   "cell_type": "code",
   "execution_count": 1,
   "metadata": {},
   "outputs": [],
   "source": [
    "import os\n",
    "import yaml\n",
    "import scipy.stats\n",
    "import numpy as np\n",
    "import pandas as pd\n",
    "import seaborn as sns\n",
    "import matplotlib.pyplot as plt\n",
    "from statsmodels.stats.multicomp import MultiComparison\n",
    "from statsmodels.stats.multicomp import pairwise_tukeyhsd"
   ]
  },
  {
   "cell_type": "code",
   "execution_count": 6,
   "metadata": {},
   "outputs": [],
   "source": [
    "with open('../config.yaml', 'r') as f:\n",
    "    config = yaml.load(f, Loader=yaml.Loader)\n",
    "\n",
    "\n",
    "directory = config['dir_name'] +'/df_fedavg_average'\n",
    "\n",
    "fedavg = pd.DataFrame()\n",
    "for i in [2,3,6,8,9,10,11,12]:         # ,9,10,11,12\n",
    "    fedavg[f'site{i}'] = pd.read_csv(directory+str(i)+'.csv',index_col = [0])\n",
    "# local_df = pd.read_csv(config['dir_name']+'/local_val_df.csv', index_col=[0])\n",
    "# centralized_df = pd.read_csv(config['dir_name']+'/centralized_score.csv', index_col=[0])\n",
    "# transfer = pd.read_csv(config['dir_name']+'/transfer_learning_score.csv', index_col=[0])"
   ]
  },
  {
   "cell_type": "code",
   "execution_count": 7,
   "metadata": {},
   "outputs": [],
   "source": [
    "baseline = fedavg.copy()"
   ]
  },
  {
   "cell_type": "code",
   "execution_count": 5,
   "metadata": {},
   "outputs": [],
   "source": [
    "last_layer = fedavg.copy()"
   ]
  },
  {
   "cell_type": "code",
   "execution_count": 3,
   "metadata": {},
   "outputs": [],
   "source": [
    "last_two_layer = fedavg.copy()"
   ]
  },
  {
   "cell_type": "code",
   "execution_count": 12,
   "metadata": {},
   "outputs": [
    {
     "data": {
      "text/html": [
       "<div>\n",
       "<style scoped>\n",
       "    .dataframe tbody tr th:only-of-type {\n",
       "        vertical-align: middle;\n",
       "    }\n",
       "\n",
       "    .dataframe tbody tr th {\n",
       "        vertical-align: top;\n",
       "    }\n",
       "\n",
       "    .dataframe thead th {\n",
       "        text-align: right;\n",
       "    }\n",
       "</style>\n",
       "<table border=\"1\" class=\"dataframe\">\n",
       "  <thead>\n",
       "    <tr style=\"text-align: right;\">\n",
       "      <th></th>\n",
       "      <th>site2</th>\n",
       "      <th>site3</th>\n",
       "      <th>site6</th>\n",
       "      <th>site8</th>\n",
       "      <th>site9</th>\n",
       "      <th>site10</th>\n",
       "      <th>site11</th>\n",
       "      <th>site12</th>\n",
       "    </tr>\n",
       "  </thead>\n",
       "  <tbody>\n",
       "    <tr>\n",
       "      <th>42</th>\n",
       "      <td>0.965278</td>\n",
       "      <td>0.787634</td>\n",
       "      <td>0.819231</td>\n",
       "      <td>0.808601</td>\n",
       "      <td>0.745437</td>\n",
       "      <td>0.668518</td>\n",
       "      <td>0.904965</td>\n",
       "      <td>0.96</td>\n",
       "    </tr>\n",
       "    <tr>\n",
       "      <th>43</th>\n",
       "      <td>0.798611</td>\n",
       "      <td>0.745506</td>\n",
       "      <td>0.875641</td>\n",
       "      <td>0.818393</td>\n",
       "      <td>0.677874</td>\n",
       "      <td>0.629494</td>\n",
       "      <td>0.797163</td>\n",
       "      <td>1.00</td>\n",
       "    </tr>\n",
       "    <tr>\n",
       "      <th>44</th>\n",
       "      <td>0.840278</td>\n",
       "      <td>0.772891</td>\n",
       "      <td>0.839744</td>\n",
       "      <td>0.628407</td>\n",
       "      <td>0.601985</td>\n",
       "      <td>0.708126</td>\n",
       "      <td>0.730496</td>\n",
       "      <td>0.98</td>\n",
       "    </tr>\n",
       "    <tr>\n",
       "      <th>45</th>\n",
       "      <td>0.923611</td>\n",
       "      <td>0.773269</td>\n",
       "      <td>0.702564</td>\n",
       "      <td>0.607712</td>\n",
       "      <td>0.613192</td>\n",
       "      <td>0.757235</td>\n",
       "      <td>0.717730</td>\n",
       "      <td>0.12</td>\n",
       "    </tr>\n",
       "    <tr>\n",
       "      <th>46</th>\n",
       "      <td>0.840278</td>\n",
       "      <td>0.767788</td>\n",
       "      <td>0.822436</td>\n",
       "      <td>0.652938</td>\n",
       "      <td>0.739353</td>\n",
       "      <td>0.754458</td>\n",
       "      <td>0.845390</td>\n",
       "      <td>0.98</td>\n",
       "    </tr>\n",
       "    <tr>\n",
       "      <th>...</th>\n",
       "      <td>...</td>\n",
       "      <td>...</td>\n",
       "      <td>...</td>\n",
       "      <td>...</td>\n",
       "      <td>...</td>\n",
       "      <td>...</td>\n",
       "      <td>...</td>\n",
       "      <td>...</td>\n",
       "    </tr>\n",
       "    <tr>\n",
       "      <th>98</th>\n",
       "      <td>0.958333</td>\n",
       "      <td>0.774740</td>\n",
       "      <td>0.719231</td>\n",
       "      <td>0.596204</td>\n",
       "      <td>0.754403</td>\n",
       "      <td>0.755335</td>\n",
       "      <td>0.608511</td>\n",
       "      <td>0.28</td>\n",
       "    </tr>\n",
       "    <tr>\n",
       "      <th>99</th>\n",
       "      <td>0.736111</td>\n",
       "      <td>0.777491</td>\n",
       "      <td>0.530769</td>\n",
       "      <td>0.781547</td>\n",
       "      <td>0.762568</td>\n",
       "      <td>0.682257</td>\n",
       "      <td>0.887943</td>\n",
       "      <td>0.40</td>\n",
       "    </tr>\n",
       "    <tr>\n",
       "      <th>100</th>\n",
       "      <td>0.541667</td>\n",
       "      <td>0.728138</td>\n",
       "      <td>0.817949</td>\n",
       "      <td>0.751969</td>\n",
       "      <td>0.683638</td>\n",
       "      <td>0.707907</td>\n",
       "      <td>0.713475</td>\n",
       "      <td>0.98</td>\n",
       "    </tr>\n",
       "    <tr>\n",
       "      <th>101</th>\n",
       "      <td>0.381944</td>\n",
       "      <td>0.803742</td>\n",
       "      <td>0.685897</td>\n",
       "      <td>0.724409</td>\n",
       "      <td>0.836375</td>\n",
       "      <td>0.762643</td>\n",
       "      <td>0.506383</td>\n",
       "      <td>1.00</td>\n",
       "    </tr>\n",
       "    <tr>\n",
       "      <th>102</th>\n",
       "      <td>0.763889</td>\n",
       "      <td>0.817708</td>\n",
       "      <td>0.796154</td>\n",
       "      <td>0.562588</td>\n",
       "      <td>0.823247</td>\n",
       "      <td>0.712292</td>\n",
       "      <td>0.818440</td>\n",
       "      <td>0.66</td>\n",
       "    </tr>\n",
       "  </tbody>\n",
       "</table>\n",
       "<p>61 rows × 8 columns</p>\n",
       "</div>"
      ],
      "text/plain": [
       "        site2     site3     site6     site8     site9    site10    site11  \\\n",
       "42   0.965278  0.787634  0.819231  0.808601  0.745437  0.668518  0.904965   \n",
       "43   0.798611  0.745506  0.875641  0.818393  0.677874  0.629494  0.797163   \n",
       "44   0.840278  0.772891  0.839744  0.628407  0.601985  0.708126  0.730496   \n",
       "45   0.923611  0.773269  0.702564  0.607712  0.613192  0.757235  0.717730   \n",
       "46   0.840278  0.767788  0.822436  0.652938  0.739353  0.754458  0.845390   \n",
       "..        ...       ...       ...       ...       ...       ...       ...   \n",
       "98   0.958333  0.774740  0.719231  0.596204  0.754403  0.755335  0.608511   \n",
       "99   0.736111  0.777491  0.530769  0.781547  0.762568  0.682257  0.887943   \n",
       "100  0.541667  0.728138  0.817949  0.751969  0.683638  0.707907  0.713475   \n",
       "101  0.381944  0.803742  0.685897  0.724409  0.836375  0.762643  0.506383   \n",
       "102  0.763889  0.817708  0.796154  0.562588  0.823247  0.712292  0.818440   \n",
       "\n",
       "     site12  \n",
       "42     0.96  \n",
       "43     1.00  \n",
       "44     0.98  \n",
       "45     0.12  \n",
       "46     0.98  \n",
       "..      ...  \n",
       "98     0.28  \n",
       "99     0.40  \n",
       "100    0.98  \n",
       "101    1.00  \n",
       "102    0.66  \n",
       "\n",
       "[61 rows x 8 columns]"
      ]
     },
     "execution_count": 12,
     "metadata": {},
     "output_type": "execute_result"
    }
   ],
   "source": [
    "last_two_layer"
   ]
  },
  {
   "cell_type": "code",
   "execution_count": 13,
   "metadata": {},
   "outputs": [
    {
     "ename": "ValueError",
     "evalue": "Expected a 1D array, got an array with shape (61, 8)",
     "output_type": "error",
     "traceback": [
      "\u001b[0;31m---------------------------------------------------------------------------\u001b[0m",
      "\u001b[0;31mKeyError\u001b[0m                                  Traceback (most recent call last)",
      "\u001b[0;32m~/.local/lib/python3.8/site-packages/pandas/core/indexes/base.py\u001b[0m in \u001b[0;36mget_loc\u001b[0;34m(self, key, method, tolerance)\u001b[0m\n\u001b[1;32m   3620\u001b[0m             \u001b[0;32mtry\u001b[0m\u001b[0;34m:\u001b[0m\u001b[0;34m\u001b[0m\u001b[0;34m\u001b[0m\u001b[0m\n\u001b[0;32m-> 3621\u001b[0;31m                 \u001b[0;32mreturn\u001b[0m \u001b[0mself\u001b[0m\u001b[0;34m.\u001b[0m\u001b[0m_engine\u001b[0m\u001b[0;34m.\u001b[0m\u001b[0mget_loc\u001b[0m\u001b[0;34m(\u001b[0m\u001b[0mcasted_key\u001b[0m\u001b[0;34m)\u001b[0m\u001b[0;34m\u001b[0m\u001b[0;34m\u001b[0m\u001b[0m\n\u001b[0m\u001b[1;32m   3622\u001b[0m             \u001b[0;32mexcept\u001b[0m \u001b[0mKeyError\u001b[0m \u001b[0;32mas\u001b[0m \u001b[0merr\u001b[0m\u001b[0;34m:\u001b[0m\u001b[0;34m\u001b[0m\u001b[0;34m\u001b[0m\u001b[0m\n",
      "\u001b[0;32m~/.local/lib/python3.8/site-packages/pandas/_libs/index.pyx\u001b[0m in \u001b[0;36mpandas._libs.index.IndexEngine.get_loc\u001b[0;34m()\u001b[0m\n",
      "\u001b[0;32m~/.local/lib/python3.8/site-packages/pandas/_libs/index.pyx\u001b[0m in \u001b[0;36mpandas._libs.index.IndexEngine.get_loc\u001b[0;34m()\u001b[0m\n",
      "\u001b[0;32mpandas/_libs/hashtable_class_helper.pxi\u001b[0m in \u001b[0;36mpandas._libs.hashtable.PyObjectHashTable.get_item\u001b[0;34m()\u001b[0m\n",
      "\u001b[0;32mpandas/_libs/hashtable_class_helper.pxi\u001b[0m in \u001b[0;36mpandas._libs.hashtable.PyObjectHashTable.get_item\u001b[0;34m()\u001b[0m\n",
      "\u001b[0;31mKeyError\u001b[0m: 'last layer'",
      "\nThe above exception was the direct cause of the following exception:\n",
      "\u001b[0;31mKeyError\u001b[0m                                  Traceback (most recent call last)",
      "\u001b[0;32m~/.local/lib/python3.8/site-packages/pandas/core/frame.py\u001b[0m in \u001b[0;36m_set_item_mgr\u001b[0;34m(self, key, value)\u001b[0m\n\u001b[1;32m   3798\u001b[0m         \u001b[0;32mtry\u001b[0m\u001b[0;34m:\u001b[0m\u001b[0;34m\u001b[0m\u001b[0;34m\u001b[0m\u001b[0m\n\u001b[0;32m-> 3799\u001b[0;31m             \u001b[0mloc\u001b[0m \u001b[0;34m=\u001b[0m \u001b[0mself\u001b[0m\u001b[0;34m.\u001b[0m\u001b[0m_info_axis\u001b[0m\u001b[0;34m.\u001b[0m\u001b[0mget_loc\u001b[0m\u001b[0;34m(\u001b[0m\u001b[0mkey\u001b[0m\u001b[0;34m)\u001b[0m\u001b[0;34m\u001b[0m\u001b[0;34m\u001b[0m\u001b[0m\n\u001b[0m\u001b[1;32m   3800\u001b[0m         \u001b[0;32mexcept\u001b[0m \u001b[0mKeyError\u001b[0m\u001b[0;34m:\u001b[0m\u001b[0;34m\u001b[0m\u001b[0;34m\u001b[0m\u001b[0m\n",
      "\u001b[0;32m~/.local/lib/python3.8/site-packages/pandas/core/indexes/base.py\u001b[0m in \u001b[0;36mget_loc\u001b[0;34m(self, key, method, tolerance)\u001b[0m\n\u001b[1;32m   3622\u001b[0m             \u001b[0;32mexcept\u001b[0m \u001b[0mKeyError\u001b[0m \u001b[0;32mas\u001b[0m \u001b[0merr\u001b[0m\u001b[0;34m:\u001b[0m\u001b[0;34m\u001b[0m\u001b[0;34m\u001b[0m\u001b[0m\n\u001b[0;32m-> 3623\u001b[0;31m                 \u001b[0;32mraise\u001b[0m \u001b[0mKeyError\u001b[0m\u001b[0;34m(\u001b[0m\u001b[0mkey\u001b[0m\u001b[0;34m)\u001b[0m \u001b[0;32mfrom\u001b[0m \u001b[0merr\u001b[0m\u001b[0;34m\u001b[0m\u001b[0;34m\u001b[0m\u001b[0m\n\u001b[0m\u001b[1;32m   3624\u001b[0m             \u001b[0;32mexcept\u001b[0m \u001b[0mTypeError\u001b[0m\u001b[0;34m:\u001b[0m\u001b[0;34m\u001b[0m\u001b[0;34m\u001b[0m\u001b[0m\n",
      "\u001b[0;31mKeyError\u001b[0m: 'last layer'",
      "\nDuring handling of the above exception, another exception occurred:\n",
      "\u001b[0;31mValueError\u001b[0m                                Traceback (most recent call last)",
      "\u001b[0;32m/tmp/ipykernel_3731073/1143087658.py\u001b[0m in \u001b[0;36m<module>\u001b[0;34m\u001b[0m\n\u001b[1;32m      1\u001b[0m \u001b[0moutput\u001b[0m \u001b[0;34m=\u001b[0m \u001b[0mpd\u001b[0m\u001b[0;34m.\u001b[0m\u001b[0mDataFrame\u001b[0m\u001b[0;34m(\u001b[0m\u001b[0;34m)\u001b[0m\u001b[0;34m\u001b[0m\u001b[0;34m\u001b[0m\u001b[0m\n\u001b[0;32m----> 2\u001b[0;31m \u001b[0moutput\u001b[0m\u001b[0;34m[\u001b[0m\u001b[0;34m'last layer'\u001b[0m\u001b[0;34m]\u001b[0m \u001b[0;34m=\u001b[0m \u001b[0mlast_layer\u001b[0m\u001b[0;34m\u001b[0m\u001b[0;34m\u001b[0m\u001b[0m\n\u001b[0m\u001b[1;32m      3\u001b[0m \u001b[0moutput\u001b[0m\u001b[0;34m[\u001b[0m\u001b[0;34m'last two layer'\u001b[0m\u001b[0;34m]\u001b[0m \u001b[0;34m=\u001b[0m \u001b[0mlast_two_layer\u001b[0m\u001b[0;34m\u001b[0m\u001b[0;34m\u001b[0m\u001b[0m\n\u001b[1;32m      4\u001b[0m \u001b[0moutput\u001b[0m\u001b[0;34m[\u001b[0m\u001b[0;34m'fedavg'\u001b[0m\u001b[0;34m]\u001b[0m \u001b[0;34m=\u001b[0m \u001b[0mbaseline\u001b[0m\u001b[0;34m\u001b[0m\u001b[0;34m\u001b[0m\u001b[0m\n",
      "\u001b[0;32m~/.local/lib/python3.8/site-packages/pandas/core/frame.py\u001b[0m in \u001b[0;36m__setitem__\u001b[0;34m(self, key, value)\u001b[0m\n\u001b[1;32m   3643\u001b[0m             \u001b[0mself\u001b[0m\u001b[0;34m.\u001b[0m\u001b[0m_setitem_array\u001b[0m\u001b[0;34m(\u001b[0m\u001b[0mkey\u001b[0m\u001b[0;34m,\u001b[0m \u001b[0mvalue\u001b[0m\u001b[0;34m)\u001b[0m\u001b[0;34m\u001b[0m\u001b[0;34m\u001b[0m\u001b[0m\n\u001b[1;32m   3644\u001b[0m         \u001b[0;32melif\u001b[0m \u001b[0misinstance\u001b[0m\u001b[0;34m(\u001b[0m\u001b[0mvalue\u001b[0m\u001b[0;34m,\u001b[0m \u001b[0mDataFrame\u001b[0m\u001b[0;34m)\u001b[0m\u001b[0;34m:\u001b[0m\u001b[0;34m\u001b[0m\u001b[0;34m\u001b[0m\u001b[0m\n\u001b[0;32m-> 3645\u001b[0;31m             \u001b[0mself\u001b[0m\u001b[0;34m.\u001b[0m\u001b[0m_set_item_frame_value\u001b[0m\u001b[0;34m(\u001b[0m\u001b[0mkey\u001b[0m\u001b[0;34m,\u001b[0m \u001b[0mvalue\u001b[0m\u001b[0;34m)\u001b[0m\u001b[0;34m\u001b[0m\u001b[0;34m\u001b[0m\u001b[0m\n\u001b[0m\u001b[1;32m   3646\u001b[0m         elif (\n\u001b[1;32m   3647\u001b[0m             \u001b[0mis_list_like\u001b[0m\u001b[0;34m(\u001b[0m\u001b[0mvalue\u001b[0m\u001b[0;34m)\u001b[0m\u001b[0;34m\u001b[0m\u001b[0;34m\u001b[0m\u001b[0m\n",
      "\u001b[0;32m~/.local/lib/python3.8/site-packages/pandas/core/frame.py\u001b[0m in \u001b[0;36m_set_item_frame_value\u001b[0;34m(self, key, value)\u001b[0m\n\u001b[1;32m   3786\u001b[0m         \u001b[0;31m# now align rows\u001b[0m\u001b[0;34m\u001b[0m\u001b[0;34m\u001b[0m\u001b[0;34m\u001b[0m\u001b[0m\n\u001b[1;32m   3787\u001b[0m         \u001b[0marraylike\u001b[0m \u001b[0;34m=\u001b[0m \u001b[0m_reindex_for_setitem\u001b[0m\u001b[0;34m(\u001b[0m\u001b[0mvalue\u001b[0m\u001b[0;34m,\u001b[0m \u001b[0mself\u001b[0m\u001b[0;34m.\u001b[0m\u001b[0mindex\u001b[0m\u001b[0;34m)\u001b[0m\u001b[0;34m\u001b[0m\u001b[0;34m\u001b[0m\u001b[0m\n\u001b[0;32m-> 3788\u001b[0;31m         \u001b[0mself\u001b[0m\u001b[0;34m.\u001b[0m\u001b[0m_set_item_mgr\u001b[0m\u001b[0;34m(\u001b[0m\u001b[0mkey\u001b[0m\u001b[0;34m,\u001b[0m \u001b[0marraylike\u001b[0m\u001b[0;34m)\u001b[0m\u001b[0;34m\u001b[0m\u001b[0;34m\u001b[0m\u001b[0m\n\u001b[0m\u001b[1;32m   3789\u001b[0m \u001b[0;34m\u001b[0m\u001b[0m\n\u001b[1;32m   3790\u001b[0m     def _iset_item_mgr(\n",
      "\u001b[0;32m~/.local/lib/python3.8/site-packages/pandas/core/frame.py\u001b[0m in \u001b[0;36m_set_item_mgr\u001b[0;34m(self, key, value)\u001b[0m\n\u001b[1;32m   3800\u001b[0m         \u001b[0;32mexcept\u001b[0m \u001b[0mKeyError\u001b[0m\u001b[0;34m:\u001b[0m\u001b[0;34m\u001b[0m\u001b[0;34m\u001b[0m\u001b[0m\n\u001b[1;32m   3801\u001b[0m             \u001b[0;31m# This item wasn't present, just insert at end\u001b[0m\u001b[0;34m\u001b[0m\u001b[0;34m\u001b[0m\u001b[0;34m\u001b[0m\u001b[0m\n\u001b[0;32m-> 3802\u001b[0;31m             \u001b[0mself\u001b[0m\u001b[0;34m.\u001b[0m\u001b[0m_mgr\u001b[0m\u001b[0;34m.\u001b[0m\u001b[0minsert\u001b[0m\u001b[0;34m(\u001b[0m\u001b[0mlen\u001b[0m\u001b[0;34m(\u001b[0m\u001b[0mself\u001b[0m\u001b[0;34m.\u001b[0m\u001b[0m_info_axis\u001b[0m\u001b[0;34m)\u001b[0m\u001b[0;34m,\u001b[0m \u001b[0mkey\u001b[0m\u001b[0;34m,\u001b[0m \u001b[0mvalue\u001b[0m\u001b[0;34m)\u001b[0m\u001b[0;34m\u001b[0m\u001b[0;34m\u001b[0m\u001b[0m\n\u001b[0m\u001b[1;32m   3803\u001b[0m         \u001b[0;32melse\u001b[0m\u001b[0;34m:\u001b[0m\u001b[0;34m\u001b[0m\u001b[0;34m\u001b[0m\u001b[0m\n\u001b[1;32m   3804\u001b[0m             \u001b[0mself\u001b[0m\u001b[0;34m.\u001b[0m\u001b[0m_iset_item_mgr\u001b[0m\u001b[0;34m(\u001b[0m\u001b[0mloc\u001b[0m\u001b[0;34m,\u001b[0m \u001b[0mvalue\u001b[0m\u001b[0;34m)\u001b[0m\u001b[0;34m\u001b[0m\u001b[0;34m\u001b[0m\u001b[0m\n",
      "\u001b[0;32m~/.local/lib/python3.8/site-packages/pandas/core/internals/managers.py\u001b[0m in \u001b[0;36minsert\u001b[0;34m(self, loc, item, value)\u001b[0m\n\u001b[1;32m   1233\u001b[0m             \u001b[0mvalue\u001b[0m \u001b[0;34m=\u001b[0m \u001b[0mvalue\u001b[0m\u001b[0;34m.\u001b[0m\u001b[0mT\u001b[0m\u001b[0;34m\u001b[0m\u001b[0;34m\u001b[0m\u001b[0m\n\u001b[1;32m   1234\u001b[0m             \u001b[0;32mif\u001b[0m \u001b[0mlen\u001b[0m\u001b[0;34m(\u001b[0m\u001b[0mvalue\u001b[0m\u001b[0;34m)\u001b[0m \u001b[0;34m>\u001b[0m \u001b[0;36m1\u001b[0m\u001b[0;34m:\u001b[0m\u001b[0;34m\u001b[0m\u001b[0;34m\u001b[0m\u001b[0m\n\u001b[0;32m-> 1235\u001b[0;31m                 raise ValueError(\n\u001b[0m\u001b[1;32m   1236\u001b[0m                     \u001b[0;34mf\"Expected a 1D array, got an array with shape {value.T.shape}\"\u001b[0m\u001b[0;34m\u001b[0m\u001b[0;34m\u001b[0m\u001b[0m\n\u001b[1;32m   1237\u001b[0m                 )\n",
      "\u001b[0;31mValueError\u001b[0m: Expected a 1D array, got an array with shape (61, 8)"
     ]
    }
   ],
   "source": [
    "output = pd.DataFrame()\n",
    "output['last layer'] = last_layer\n",
    "output['last two layer'] = last_two_layer\n",
    "output['fedavg'] = baseline"
   ]
  },
  {
   "cell_type": "code",
   "execution_count": 14,
   "metadata": {},
   "outputs": [],
   "source": [
    "def concat4hos(df,method):\n",
    "    temp = pd.concat([df['site2'],df['site3'],df['site6'],df['site8']])\n",
    "    temp = pd.DataFrame(temp,columns=['mean'])\n",
    "    temp['site'] = ['site 2']*61+['site 3']*61+['site 6']*61+['site 8']*61\n",
    "    temp['method'] = method\n",
    "    return temp\n",
    "\n",
    "def concat8hos(df,method):\n",
    "    temp = pd.concat([df['site2'],df['site3'],df['site6'],df['site8'],df['site9'],df['site10'],df['site11'],df['site12']])\n",
    "    temp = pd.DataFrame(temp,columns=['mean'])\n",
    "    temp['site'] = ['site 2']*61+['site 3']*61+['site 6']*61+['site 8']*61+['site 9']*61+['site 10']*61+['site 11']*61+['site 12']*61\n",
    "    temp['method'] = method\n",
    "    return temp"
   ]
  },
  {
   "cell_type": "code",
   "execution_count": 17,
   "metadata": {},
   "outputs": [],
   "source": [
    "dffedavg = concat8hos(baseline, 'Fedavg')\n",
    "dffedper1 = concat8hos(last_layer, 'FedPer (last layer)')\n",
    "dffedper2 = concat8hos(last_two_layer, 'FedPer (last two layer)')\n",
    "boxplot_data = pd.concat([dffedper1,dffedper2,dffedavg])"
   ]
  },
  {
   "cell_type": "code",
   "execution_count": 18,
   "metadata": {},
   "outputs": [
    {
     "data": {
      "text/plain": [
       "Text(0.5, 0, 'Site')"
      ]
     },
     "execution_count": 18,
     "metadata": {},
     "output_type": "execute_result"
    },
    {
     "data": {
      "image/png": "[encoded data removed]",
      "text/plain": [
       "<Figure size 864x432 with 1 Axes>"
      ]
     },
     "metadata": {},
     "output_type": "display_data"
    }
   ],
   "source": [
    "sns.set(style='whitegrid')\n",
    "plt.figure(figsize=(12,6))\n",
    "ax = sns.boxplot(x = 'site',y='mean',hue='method',data=boxplot_data, palette=\"Spectral\",linewidth=1.5)\n",
    "ax.set_ylabel(\"AUROC\",fontsize=15)\n",
    "ax.set_xlabel(\"Site\",fontsize=15)"
   ]
  },
  {
   "cell_type": "code",
   "execution_count": 49,
   "metadata": {},
   "outputs": [],
   "source": [
    "# fill 10 的結果\n",
    "local = concat4hos(local_df,'Localized Learning')\n",
    "central = concat4hos(centralized_df,'Centralized Learning')\n",
    "df_fedavg = concat4hos(fedavg, 'Fedavg (average)')\n",
    "df_transfer = concat4hos(transfer, 'Transfer (average)')\n",
    "boxplot_4_ten = pd.concat([df_fedavg,local,df_transfer,central])\n",
    "df4_ten = pd.DataFrame(data=[fedavg.mean(), local_df.mean(), transfer.mean(), centralized_df.mean()],index =['Federated Learning (average)', 'Localized Learning' ,'Transfer Learning (average)', 'Centralized Learning'])"
   ]
  },
  {
   "cell_type": "code",
   "execution_count": 9,
   "metadata": {},
   "outputs": [],
   "source": [
    "# fill_median\n",
    "local = concat4hos(local_df,'Localized Learning')\n",
    "central = concat4hos(centralized_df,'Centralized Learning')\n",
    "df_fedavg = concat4hos(fedavg, 'Fedavg (average)')\n",
    "df_transfer = concat4hos(transfer, 'Transfer (average)')\n",
    "boxplot_4_median = pd.concat([df_fedavg,local,df_transfer,central])\n",
    "df4_median = pd.DataFrame(data=[fedavg.mean(), local_df.mean(), transfer.mean(), centralized_df.mean()],index =['Federated Learning (average)', 'Localized Learning' ,'Transfer Learning (average)', 'Centralized Learning'])\n"
   ]
  },
  {
   "cell_type": "code",
   "execution_count": 11,
   "metadata": {},
   "outputs": [],
   "source": [
    "# fill_median\n",
    "local = concat8hos(local_df,'Localized Learning')\n",
    "central = concat8hos(centralized_df,'Centralized Learning')\n",
    "df_fedavg = concat8hos(fedavg, 'Fedavg (average)')\n",
    "df_transfer = concat8hos(transfer, 'Transfer (average)')\n",
    "boxplot_8_median = pd.concat([df_fedavg,local,df_transfer,central])\n",
    "df8_median = pd.DataFrame(data=[fedavg.mean(), local_df.mean(), transfer.mean(), centralized_df.mean()],index =['Federated Learning (average)', 'Localized Learning' ,'Transfer Learning (average)', 'Centralized Learning'])"
   ]
  },
  {
   "cell_type": "code",
   "execution_count": 45,
   "metadata": {},
   "outputs": [],
   "source": [
    "# iterative imputation\n",
    "local = concat4hos(local_df,'Localized Learning')\n",
    "central = concat4hos(centralized_df,'Centralized Learning')\n",
    "df_fedavg = concat4hos(fedavg, 'Fedavg (average)')\n",
    "df_transfer = concat4hos(transfer, 'Transfer (average)')\n",
    "boxplot_4_iterate = pd.concat([df_fedavg,local,df_transfer,central])\n",
    "df4_iterate = pd.DataFrame(data=[fedavg.mean(), local_df.mean(), transfer.mean(), centralized_df.mean()],index =['Federated Learning (average)', 'Localized Learning' ,'Transfer Learning (average)', 'Centralized Learning'])"
   ]
  },
  {
   "cell_type": "code",
   "execution_count": 6,
   "metadata": {},
   "outputs": [],
   "source": [
    "# iterative imputation\n",
    "local = concat8hos(local_df,'Localized Learning')\n",
    "central = concat8hos(centralized_df,'Centralized Learning')\n",
    "df_fedavg = concat8hos(fedavg, 'Fedavg (average)')\n",
    "df_transfer = concat8hos(transfer, 'Transfer (average)')\n",
    "boxplot_8_iterate = pd.concat([df_fedavg,local,df_transfer,central])\n",
    "df8_iterate = pd.DataFrame(data=[fedavg.mean(), local_df.mean(), transfer.mean(), centralized_df.mean()],index =['Federated Learning (average)', 'Localized Learning' ,'Transfer Learning (average)', 'Centralized Learning'])"
   ]
  },
  {
   "cell_type": "code",
   "execution_count": null,
   "metadata": {},
   "outputs": [],
   "source": [
    "'''\n",
    "'BuPu', 'BuPu_r', 'CMRmap', 'CMRmap_r', 'Dark2', 'Dark2_r', 'GnBu', 'GnBu_r', 'Greens', 'Greens_r', 'Greys', 'Greys_r', 'OrRd', \n",
    "'OrRd_r', 'Oranges', 'Oranges_r', 'PRGn', 'PRGn_r', 'Paired', 'Paired_r', 'Pastel1', 'Pastel1_r', 'Pastel2', 'Pastel2_r', 'PiYG', \n",
    "'PiYG_r', 'PuBu', 'PuBuGn', 'PuBuGn_r', 'PuBu_r', 'PuOr', 'PuOr_r', 'PuRd', 'PuRd_r', 'Purples', 'Purples_r', 'RdBu', 'RdBu_r', \n",
    "'RdGy', 'RdGy_r', 'RdPu', 'RdPu_r', 'RdYlBu', 'RdYlBu_r', 'RdYlGn', 'RdYlGn_r', 'Reds', 'Reds_r', 'Set1', 'Set1_r', 'Set2', 'Set2_r', \n",
    "'Set3', 'Set3_r', 'Spectral', 'Spectral_r', 'Wistia', 'Wistia_r', 'YlGn', 'YlGnBu', 'YlGnBu_r', 'YlGn_r', 'YlOrBr', 'YlOrBr_r', \n",
    "'YlOrRd', 'YlOrRd_r', 'afmhot', 'afmhot_r', 'autumn', 'autumn_r', 'binary', 'binary_r', 'bone', 'bone_r', 'brg', 'brg_r', 'bwr', \n",
    "'bwr_r', 'cividis', 'cividis_r', 'cool', 'cool_r', 'coolwarm', 'coolwarm_r', 'copper', 'copper_r', 'crest', 'crest_r', 'cubehelix', \n",
    "'cubehelix_r', 'flag', 'flag_r', 'flare', 'flare_r', 'gist_earth', 'gist_earth_r', 'gist_gray', 'gist_gray_r', 'gist_heat', 'gist_heat_r', \n",
    "'gist_ncar', 'gist_ncar_r', 'gist_rainbow', 'gist_rainbow_r', 'gist_stern', 'gist_stern_r', 'gist_yarg', 'gist_yarg_r', 'gnuplot', \n",
    "'gnuplot2', 'gnuplot2_r', 'gnuplot_r', 'gray', 'gray_r', 'hot', 'hot_r', 'hsv', 'hsv_r', 'icefire', 'icefire_r', 'inferno', 'inferno_r', \n",
    "'jet', 'jet_r', 'magma', 'magma_r', 'mako', 'mako_r', 'nipy_spectral', 'nipy_spectral_r', 'ocean', 'ocean_r', 'pink', 'pink_r', 'plasma', \n",
    "'plasma_r', 'prism', 'prism_r', 'rainbow', 'rainbow_r', 'rocket', 'rocket_r', 'seismic', 'seismic_r', 'spring', 'spring_r', 'summer', \n",
    "'summer_r', 'tab10', 'tab10_r', 'tab20', 'tab20_r', 'tab20b', 'tab20b_r', 'tab20c', 'tab20c_r', 'terrain', 'terrain_r', 'turbo', 'turbo_r', \n",
    "'twilight', 'twilight_r', 'twilight_shifted', 'twilight_shifted_r', 'viridis', 'viridis_r', 'vlag', 'vlag_r', 'winter', 'winter_r'\n",
    "'''"
   ]
  },
  {
   "cell_type": "code",
   "execution_count": 12,
   "metadata": {},
   "outputs": [
    {
     "data": {
      "image/png": "[encoded data removed]",
      "text/plain": [
       "<Figure size 864x432 with 1 Axes>"
      ]
     },
     "metadata": {},
     "output_type": "display_data"
    }
   ],
   "source": [
    "filename = 'fill_10'\n",
    "sns.set(style='whitegrid')\n",
    "plt.figure(figsize=(12,6))\n",
    "ax = sns.boxplot(x = 'site',y='mean',hue='method',data=boxplot_8_median, palette=\"Spectral\",linewidth=1.5)\n",
    "ax.set_ylabel(\"AUROC\",fontsize=15)\n",
    "ax.set_xlabel(\"Site\",fontsize=15)\n",
    "plt.savefig('/home/refu0917/lungcancer/remote_output1/img_folder/'+filename)"
   ]
  },
  {
   "cell_type": "code",
   "execution_count": 3,
   "metadata": {},
   "outputs": [],
   "source": [
    "import scipy.stats as stats\n",
    "from scipy.stats import shapiro\n",
    "site2 = df[df['site'] == 'site 2']\n",
    "site3 = df[df['site'] == 'site 3']\n",
    "site6 = df[df['site'] == 'site 6']\n",
    "site8 = df[df['site'] == 'site 8']\n",
    "\n",
    "def split_method(df):\n",
    "    fl = df[df['method'] == 'Federated Learning']\n",
    "    cl = df[df['method'] == 'Centralized Learning']\n",
    "    tl = df[df['method'] == 'Transfer Learning']\n",
    "    ll = df[df['method'] == 'Localized Learning']\n",
    "    return fl, cl, tl, ll\n",
    "\n",
    "def check_distribution(df):\n",
    "    print(np.unique(df.site))\n",
    "    '''fl = df[df['method'] == 'Federated Learning']\n",
    "    cl = df[df['method'] == 'Centralized Learning']\n",
    "    tl = df[df['method'] == 'Transfer Learning']\n",
    "    ll = df[df['method'] == 'Localized Learning']'''\n",
    "    fl, cl,tl,ll = split_method(df)\n",
    "    for i,j in zip([fl, cl,tl,ll],['Federated Learning','Centralized Learning','Transfer Learning','Localized Learning']):\n",
    "        stat,p = shapiro(i['mean'])\n",
    "        if p > 0.05:\n",
    "            print(f'{j} pvalue={p} --> normal distribution')\n",
    "        else:\n",
    "            print(f'{j} pvalue={p} --> non-normal distribution')\n",
    "    return"
   ]
  },
  {
   "cell_type": "code",
   "execution_count": 4,
   "metadata": {},
   "outputs": [
    {
     "name": "stdout",
     "output_type": "stream",
     "text": [
      "['site 2']\n",
      "Federated Learning pvalue=0.0017631060909479856 --> non-normal distribution\n",
      "Centralized Learning pvalue=0.3214898109436035 --> normal distribution\n",
      "Transfer Learning pvalue=0.08616319298744202 --> normal distribution\n",
      "Localized Learning pvalue=0.012976951897144318 --> non-normal distribution\n",
      "['site 3']\n",
      "Federated Learning pvalue=0.11725518107414246 --> normal distribution\n",
      "Centralized Learning pvalue=0.23619839549064636 --> normal distribution\n",
      "Transfer Learning pvalue=0.11769670248031616 --> normal distribution\n",
      "Localized Learning pvalue=0.11769670248031616 --> normal distribution\n",
      "['site 6']\n",
      "Federated Learning pvalue=0.10238077491521835 --> normal distribution\n",
      "Centralized Learning pvalue=0.48916685581207275 --> normal distribution\n",
      "Transfer Learning pvalue=0.039354193955659866 --> non-normal distribution\n",
      "Localized Learning pvalue=0.49258142709732056 --> normal distribution\n",
      "['site 8']\n",
      "Federated Learning pvalue=0.9033615589141846 --> normal distribution\n",
      "Centralized Learning pvalue=0.9886645674705505 --> normal distribution\n",
      "Transfer Learning pvalue=0.3441939055919647 --> normal distribution\n",
      "Localized Learning pvalue=0.6154657006263733 --> normal distribution\n"
     ]
    }
   ],
   "source": [
    "check_distribution(site2) #-->kruskal wallis\n",
    "check_distribution(site3) #-->anova\n",
    "check_distribution(site6) #-->kruskal wallis\n",
    "check_distribution(site8) #-->anova"
   ]
  },
  {
   "cell_type": "markdown",
   "metadata": {},
   "source": [
    "# Site 2, 6 Kruskal Wallis"
   ]
  },
  {
   "cell_type": "code",
   "execution_count": 100,
   "metadata": {},
   "outputs": [
    {
     "name": "stdout",
     "output_type": "stream",
     "text": [
      "['site 2']\n",
      "9.124440742718965e-10 , rejected h0\n",
      "['site 6']\n",
      "0.0037720528160807795 , rejected h0\n"
     ]
    }
   ],
   "source": [
    "import scikit_posthocs as sp\n",
    "def kruskal_wallis(df):\n",
    "    print(np.unique(df.site))\n",
    "    fl,cl,tl,ll = split_method(df)\n",
    "    result = stats.kruskal(fl['mean'], cl['mean'], tl['mean'], ll['mean'])\n",
    "    if result[1] < 0.05:\n",
    "        print(f'{result[1]} , rejected h0')\n",
    "    else:\n",
    "        print(f'{result[1]} , do not rejected h0')\n",
    "    # post hoc\n",
    "    data = [fl['mean'], cl['mean'], tl['mean'], ll['mean']]\n",
    "    \n",
    "    p_values= sp.posthoc_dunn(df, val_col='mean', group_col='method')\n",
    "    #p_values = sp.posthoc_conover(df, val_col='mean', group_col='method')\n",
    "    p_values = pd.DataFrame(p_values)\n",
    "    p_values = p_values.rename(columns={1:\"Federated\",2:\"Centralized\",3:\"Transfered\",4:\"Localized\"},index={1:\"Federated\",2:\"Centralized\",3:\"Transfered\",4:\"Localized\"})\n",
    "    #print(p_values < 0.05)\n",
    "    return pd.DataFrame(p_values)\n",
    "\n",
    "site2_p_value = kruskal_wallis(site2)\n",
    "site6_p_value = kruskal_wallis(site6)"
   ]
  },
  {
   "cell_type": "code",
   "execution_count": 103,
   "metadata": {},
   "outputs": [
    {
     "data": {
      "text/html": [
       "<div>\n",
       "<style scoped>\n",
       "    .dataframe tbody tr th:only-of-type {\n",
       "        vertical-align: middle;\n",
       "    }\n",
       "\n",
       "    .dataframe tbody tr th {\n",
       "        vertical-align: top;\n",
       "    }\n",
       "\n",
       "    .dataframe thead th {\n",
       "        text-align: right;\n",
       "    }\n",
       "</style>\n",
       "<table border=\"1\" class=\"dataframe\">\n",
       "  <thead>\n",
       "    <tr style=\"text-align: right;\">\n",
       "      <th></th>\n",
       "      <th>Centralized Learning</th>\n",
       "      <th>Federated Learning</th>\n",
       "      <th>Localized Learning</th>\n",
       "      <th>Transfer Learning</th>\n",
       "    </tr>\n",
       "  </thead>\n",
       "  <tbody>\n",
       "    <tr>\n",
       "      <th>Centralized Learning</th>\n",
       "      <td>1.000000e+00</td>\n",
       "      <td>9.576395e-09</td>\n",
       "      <td>1.131978e-08</td>\n",
       "      <td>0.000002</td>\n",
       "    </tr>\n",
       "    <tr>\n",
       "      <th>Federated Learning</th>\n",
       "      <td>9.576395e-09</td>\n",
       "      <td>1.000000e+00</td>\n",
       "      <td>9.773437e-01</td>\n",
       "      <td>0.329305</td>\n",
       "    </tr>\n",
       "    <tr>\n",
       "      <th>Localized Learning</th>\n",
       "      <td>1.131978e-08</td>\n",
       "      <td>9.773437e-01</td>\n",
       "      <td>1.000000e+00</td>\n",
       "      <td>0.343580</td>\n",
       "    </tr>\n",
       "    <tr>\n",
       "      <th>Transfer Learning</th>\n",
       "      <td>1.911600e-06</td>\n",
       "      <td>3.293055e-01</td>\n",
       "      <td>3.435804e-01</td>\n",
       "      <td>1.000000</td>\n",
       "    </tr>\n",
       "  </tbody>\n",
       "</table>\n",
       "</div>"
      ],
      "text/plain": [
       "                      Centralized Learning  Federated Learning  \\\n",
       "Centralized Learning          1.000000e+00        9.576395e-09   \n",
       "Federated Learning            9.576395e-09        1.000000e+00   \n",
       "Localized Learning            1.131978e-08        9.773437e-01   \n",
       "Transfer Learning             1.911600e-06        3.293055e-01   \n",
       "\n",
       "                      Localized Learning  Transfer Learning  \n",
       "Centralized Learning        1.131978e-08           0.000002  \n",
       "Federated Learning          9.773437e-01           0.329305  \n",
       "Localized Learning          1.000000e+00           0.343580  \n",
       "Transfer Learning           3.435804e-01           1.000000  "
      ]
     },
     "execution_count": 103,
     "metadata": {},
     "output_type": "execute_result"
    }
   ],
   "source": [
    "site2_p_value"
   ]
  },
  {
   "cell_type": "code",
   "execution_count": 104,
   "metadata": {},
   "outputs": [
    {
     "data": {
      "text/html": [
       "<div>\n",
       "<style scoped>\n",
       "    .dataframe tbody tr th:only-of-type {\n",
       "        vertical-align: middle;\n",
       "    }\n",
       "\n",
       "    .dataframe tbody tr th {\n",
       "        vertical-align: top;\n",
       "    }\n",
       "\n",
       "    .dataframe thead th {\n",
       "        text-align: right;\n",
       "    }\n",
       "</style>\n",
       "<table border=\"1\" class=\"dataframe\">\n",
       "  <thead>\n",
       "    <tr style=\"text-align: right;\">\n",
       "      <th></th>\n",
       "      <th>Centralized Learning</th>\n",
       "      <th>Federated Learning</th>\n",
       "      <th>Localized Learning</th>\n",
       "      <th>Transfer Learning</th>\n",
       "    </tr>\n",
       "  </thead>\n",
       "  <tbody>\n",
       "    <tr>\n",
       "      <th>Centralized Learning</th>\n",
       "      <td>1.000000</td>\n",
       "      <td>0.013977</td>\n",
       "      <td>0.847988</td>\n",
       "      <td>0.309321</td>\n",
       "    </tr>\n",
       "    <tr>\n",
       "      <th>Federated Learning</th>\n",
       "      <td>0.013977</td>\n",
       "      <td>1.000000</td>\n",
       "      <td>0.008060</td>\n",
       "      <td>0.000512</td>\n",
       "    </tr>\n",
       "    <tr>\n",
       "      <th>Localized Learning</th>\n",
       "      <td>0.847988</td>\n",
       "      <td>0.008060</td>\n",
       "      <td>1.000000</td>\n",
       "      <td>0.409394</td>\n",
       "    </tr>\n",
       "    <tr>\n",
       "      <th>Transfer Learning</th>\n",
       "      <td>0.309321</td>\n",
       "      <td>0.000512</td>\n",
       "      <td>0.409394</td>\n",
       "      <td>1.000000</td>\n",
       "    </tr>\n",
       "  </tbody>\n",
       "</table>\n",
       "</div>"
      ],
      "text/plain": [
       "                      Centralized Learning  Federated Learning  \\\n",
       "Centralized Learning              1.000000            0.013977   \n",
       "Federated Learning                0.013977            1.000000   \n",
       "Localized Learning                0.847988            0.008060   \n",
       "Transfer Learning                 0.309321            0.000512   \n",
       "\n",
       "                      Localized Learning  Transfer Learning  \n",
       "Centralized Learning            0.847988           0.309321  \n",
       "Federated Learning              0.008060           0.000512  \n",
       "Localized Learning              1.000000           0.409394  \n",
       "Transfer Learning               0.409394           1.000000  "
      ]
     },
     "execution_count": 104,
     "metadata": {},
     "output_type": "execute_result"
    }
   ],
   "source": [
    "site6_p_value"
   ]
  },
  {
   "cell_type": "markdown",
   "metadata": {},
   "source": [
    "# Site 3, 8 ANOVA"
   ]
  },
  {
   "cell_type": "code",
   "execution_count": 53,
   "metadata": {},
   "outputs": [],
   "source": [
    "import statsmodels.stats.multicomp as mc\n",
    "def oneway_anova(df):\n",
    "    print(f'{np.unique(df.site)} anova analysis result : ')\n",
    "    fl, cl, tl, ll = split_method(df)\n",
    "    # one - way anova\n",
    "    result = scipy.stats.f_oneway(fl['mean'], cl['mean'], tl['mean'], ll['mean'])  \n",
    "    if result[1] < 0.05:\n",
    "        print(f'{result[1]} , rejected h0')\n",
    "    else:\n",
    "        print(f'{result[1]} , do not rejected h0')\n",
    "    # post hoc\n",
    "    comp = mc.MultiComparison(df['mean'],df['method'])\n",
    "    # bonferroni\n",
    "    tbl_bonf, _, _ = comp.allpairtest(stats.ttest_ind, method= \"bonf\")\n",
    "    print(tbl_bonf)\n",
    "    # sidak\n",
    "    tbl_sidak, _, _ = comp.allpairtest(stats.ttest_ind, method= \"sidak\")\n",
    "    print(tbl_sidak)\n",
    "    \n",
    "    # tukey \n",
    "    post_hoc_res = comp.tukeyhsd()\n",
    "    print(post_hoc_res.summary())\n",
    "    # scheffe\n",
    "    return"
   ]
  },
  {
   "cell_type": "code",
   "execution_count": 58,
   "metadata": {},
   "outputs": [
    {
     "name": "stdout",
     "output_type": "stream",
     "text": [
      "['site 3'] anova analysis result : \n",
      "0.3674407613282215 , do not rejected h0\n",
      "Test Multiple Comparison ttest_ind \n",
      "FWER=0.05 method=bonf\n",
      "alphacSidak=0.01, alphacBonf=0.008\n",
      "======================================================================\n",
      "       group1              group2        stat   pval  pval_corr reject\n",
      "----------------------------------------------------------------------\n",
      "Centralized Learning Federated Learning 1.1032 0.2723       1.0  False\n",
      "Centralized Learning Localized Learning  1.522 0.1308    0.7849  False\n",
      "Centralized Learning  Transfer Learning  1.522 0.1308    0.7849  False\n",
      "  Federated Learning Localized Learning 0.4504 0.6533       1.0  False\n",
      "  Federated Learning  Transfer Learning 0.4504 0.6533       1.0  False\n",
      "  Localized Learning  Transfer Learning    0.0    1.0       1.0  False\n",
      "----------------------------------------------------------------------\n",
      "Test Multiple Comparison ttest_ind \n",
      "FWER=0.05 method=sidak\n",
      "alphacSidak=0.01, alphacBonf=0.008\n",
      "======================================================================\n",
      "       group1              group2        stat   pval  pval_corr reject\n",
      "----------------------------------------------------------------------\n",
      "Centralized Learning Federated Learning 1.1032 0.2723    0.8515  False\n",
      "Centralized Learning Localized Learning  1.522 0.1308    0.5688  False\n",
      "Centralized Learning  Transfer Learning  1.522 0.1308    0.5688  False\n",
      "  Federated Learning Localized Learning 0.4504 0.6533    0.9983  False\n",
      "  Federated Learning  Transfer Learning 0.4504 0.6533    0.9983  False\n",
      "  Localized Learning  Transfer Learning    0.0    1.0       1.0  False\n",
      "----------------------------------------------------------------------\n"
     ]
    },
    {
     "name": "stderr",
     "output_type": "stream",
     "text": [
      "c:\\Users\\refuhung\\anaconda3\\envs\\tf2.8.0\\lib\\site-packages\\statsmodels\\stats\\multitest.py:155: RuntimeWarning: divide by zero encountered in log1p\n",
      "  pvals_corrected = -np.expm1(ntests * np.log1p(-pvals))\n"
     ]
    },
    {
     "name": "stdout",
     "output_type": "stream",
     "text": [
      "             Multiple Comparison of Means - Tukey HSD, FWER=0.05             \n",
      "=============================================================================\n",
      "       group1              group2       meandiff p-adj   lower  upper  reject\n",
      "-----------------------------------------------------------------------------\n",
      "Centralized Learning Federated Learning   -0.007 0.6916 -0.0235 0.0095  False\n",
      "Centralized Learning Localized Learning  -0.0098 0.4144 -0.0263 0.0067  False\n",
      "Centralized Learning  Transfer Learning  -0.0098 0.4144 -0.0263 0.0067  False\n",
      "  Federated Learning Localized Learning  -0.0028 0.9706 -0.0193 0.0136  False\n",
      "  Federated Learning  Transfer Learning  -0.0028 0.9706 -0.0193 0.0136  False\n",
      "  Localized Learning  Transfer Learning      0.0    1.0 -0.0165 0.0165  False\n",
      "-----------------------------------------------------------------------------\n"
     ]
    }
   ],
   "source": [
    "oneway_anova(site3)"
   ]
  },
  {
   "cell_type": "code",
   "execution_count": 56,
   "metadata": {},
   "outputs": [
    {
     "name": "stdout",
     "output_type": "stream",
     "text": [
      "['site 8'] anova analysis result : \n",
      "0.19642807140919463 , do not rejected h0\n",
      "Test Multiple Comparison ttest_ind \n",
      "FWER=0.05 method=bonf\n",
      "alphacSidak=0.01, alphacBonf=0.008\n",
      "=======================================================================\n",
      "       group1              group2         stat   pval  pval_corr reject\n",
      "-----------------------------------------------------------------------\n",
      "Centralized Learning Federated Learning -1.3742 0.1721       1.0  False\n",
      "Centralized Learning Localized Learning  0.6976 0.4869       1.0  False\n",
      "Centralized Learning  Transfer Learning  0.2237 0.8234       1.0  False\n",
      "  Federated Learning Localized Learning  2.0713 0.0406    0.2438  False\n",
      "  Federated Learning  Transfer Learning  1.5962 0.1133    0.6796  False\n",
      "  Localized Learning  Transfer Learning -0.4731 0.6371       1.0  False\n",
      "-----------------------------------------------------------------------\n",
      "Test Multiple Comparison ttest_ind \n",
      "FWER=0.05 method=sidak\n",
      "alphacSidak=0.01, alphacBonf=0.008\n",
      "=======================================================================\n",
      "       group1              group2         stat   pval  pval_corr reject\n",
      "-----------------------------------------------------------------------\n",
      "Centralized Learning Federated Learning -1.3742 0.1721     0.678  False\n",
      "Centralized Learning Localized Learning  0.6976 0.4869    0.9817  False\n",
      "Centralized Learning  Transfer Learning  0.2237 0.8234       1.0  False\n",
      "  Federated Learning Localized Learning  2.0713 0.0406    0.2203  False\n",
      "  Federated Learning  Transfer Learning  1.5962 0.1133    0.5139  False\n",
      "  Localized Learning  Transfer Learning -0.4731 0.6371    0.9977  False\n",
      "-----------------------------------------------------------------------\n",
      "             Multiple Comparison of Means - Tukey HSD, FWER=0.05             \n",
      "=============================================================================\n",
      "       group1              group2       meandiff p-adj   lower  upper  reject\n",
      "-----------------------------------------------------------------------------\n",
      "Centralized Learning Federated Learning    0.018 0.5207 -0.0161 0.0521  False\n",
      "Centralized Learning Localized Learning  -0.0092 0.8972 -0.0433 0.0249  False\n",
      "Centralized Learning  Transfer Learning   -0.003  0.996 -0.0371 0.0311  False\n",
      "  Federated Learning Localized Learning  -0.0272  0.167 -0.0613 0.0069  False\n",
      "  Federated Learning  Transfer Learning   -0.021 0.3851 -0.0551 0.0131  False\n",
      "  Localized Learning  Transfer Learning   0.0063 0.9645 -0.0278 0.0404  False\n",
      "-----------------------------------------------------------------------------\n"
     ]
    }
   ],
   "source": [
    "oneway_anova(site8)"
   ]
  },
  {
   "cell_type": "code",
   "execution_count": 14,
   "metadata": {},
   "outputs": [
    {
     "data": {
      "text/plain": [
       "<AxesSubplot:>"
      ]
     },
     "execution_count": 14,
     "metadata": {},
     "output_type": "execute_result"
    },
    {
     "data": {
      "image/png": "[encoded data removed]",
      "text/plain": [
       "<Figure size 432x288 with 1 Axes>"
      ]
     },
     "metadata": {
      "needs_background": "light"
     },
     "output_type": "display_data"
    }
   ],
   "source": [
    "import pandas as pd\n",
    "import seaborn as sns\n",
    "df = pd.read_csv('/home/refu0917/lungcancer/remote_output1/output_folder/fl_auc_df9.csv')\n",
    "df = df.T\n",
    "sns.lineplot(data=df.mean())"
   ]
  },
  {
   "cell_type": "code",
   "execution_count": 3,
   "metadata": {},
   "outputs": [],
   "source": [
    "local_result = pd.read_csv('local_result.csv',index_col=[0])"
   ]
  },
  {
   "cell_type": "code",
   "execution_count": 7,
   "metadata": {},
   "outputs": [
    {
     "data": {
      "text/plain": [
       "<AxesSubplot:ylabel='val_auc_rec'>"
      ]
     },
     "execution_count": 7,
     "metadata": {},
     "output_type": "execute_result"
    },
    {
     "data": {
      "image/png": "[encoded data removed]",
      "text/plain": [
       "<Figure size 432x288 with 1 Axes>"
      ]
     },
     "metadata": {
      "needs_background": "light"
     },
     "output_type": "display_data"
    }
   ],
   "source": [
    "sns.lineplot(data=local_result['val_auc_rec'][5:],color='blue')\n",
    "sns.lineplot(data=local_result['val_auc_exp'][5:],color='orange')\n",
    "sns.lineplot(data=local_result['val_auc'][5:],color='green')"
   ]
  },
  {
   "cell_type": "code",
   "execution_count": 5,
   "metadata": {},
   "outputs": [
    {
     "data": {
      "text/plain": [
       "<AxesSubplot:ylabel='val_loss_rec'>"
      ]
     },
     "execution_count": 5,
     "metadata": {},
     "output_type": "execute_result"
    },
    {
     "data": {
      "image/png": "[encoded data removed]",
      "text/plain": [
       "<Figure size 432x288 with 1 Axes>"
      ]
     },
     "metadata": {
      "needs_background": "light"
     },
     "output_type": "display_data"
    }
   ],
   "source": [
    "sns.lineplot(data=local_result['val_loss_rec'],color='blue')\n",
    "sns.lineplot(data=local_result['val_loss_exp'],color='orange')\n",
    "sns.lineplot(data=local_result['val_loss'],color='green')"
   ]
  },
  {
   "cell_type": "code",
   "execution_count": 83,
   "metadata": {},
   "outputs": [],
   "source": [
    "columns = [\"Class\",\"LOC\", \"FullDate\",\"Gender\", \"Age\", \"CIG\",\n",
    "            \"ALC\", \"BN\", \"MAGN\", \"AJCCstage\", \"DIFF\", \"LYMND\",\n",
    "            \"TMRSZ\", \"OP\", \"RTDATE\", \"STDATE\", \"BMI_label\",\n",
    "            \"SSF1\", \"SSF2\", \"SSF3\", \"SSF4\", \"SSF6\"]\n",
    "df = pd.read_csv(r'/home/refu0917/lungcancer/server/AllCaseCtrl_final.csv')\n",
    "df1 = df[columns]\n",
    "df2 = df[columns]"
   ]
  },
  {
   "cell_type": "code",
   "execution_count": 79,
   "metadata": {},
   "outputs": [
    {
     "name": "stderr",
     "output_type": "stream",
     "text": [
      "/tmp/ipykernel_1402313/3868939786.py:1: SettingWithCopyWarning: \n",
      "A value is trying to be set on a copy of a slice from a DataFrame.\n",
      "Try using .loc[row_indexer,col_indexer] = value instead\n",
      "\n",
      "See the caveats in the documentation: https://pandas.pydata.org/pandas-docs/stable/user_guide/indexing.html#returning-a-view-versus-a-copy\n",
      "  df1['FullDate'] = df1['FullDate'].astype('string')\n",
      "/tmp/ipykernel_1402313/3868939786.py:2: SettingWithCopyWarning: \n",
      "A value is trying to be set on a copy of a slice from a DataFrame.\n",
      "Try using .loc[row_indexer,col_indexer] = value instead\n",
      "\n",
      "See the caveats in the documentation: https://pandas.pydata.org/pandas-docs/stable/user_guide/indexing.html#returning-a-view-versus-a-copy\n",
      "  df1['year'] = [int(x[:4]) for x in list(df1['FullDate'])]\n",
      "/tmp/ipykernel_1402313/3868939786.py:3: SettingWithCopyWarning: \n",
      "A value is trying to be set on a copy of a slice from a DataFrame.\n",
      "Try using .loc[row_indexer,col_indexer] = value instead\n",
      "\n",
      "See the caveats in the documentation: https://pandas.pydata.org/pandas-docs/stable/user_guide/indexing.html#returning-a-view-versus-a-copy\n",
      "  df1['null_count'] = list(df1.isna().sum(axis=1))\n"
     ]
    },
    {
     "data": {
      "text/plain": [
       "Class            0\n",
       "LOC              0\n",
       "FullDate         0\n",
       "Gender           0\n",
       "Age              0\n",
       "CIG              0\n",
       "ALC              0\n",
       "BN               0\n",
       "MAGN             7\n",
       "AJCCstage        0\n",
       "DIFF            45\n",
       "LYMND            0\n",
       "TMRSZ            5\n",
       "OP               0\n",
       "RTDATE           0\n",
       "STDATE           0\n",
       "BMI_label        1\n",
       "SSF1          1306\n",
       "SSF2             2\n",
       "SSF3          1739\n",
       "SSF4             2\n",
       "SSF6          1314\n",
       "year             0\n",
       "null_count       0\n",
       "dtype: int64"
      ]
     },
     "execution_count": 79,
     "metadata": {},
     "output_type": "execute_result"
    }
   ],
   "source": [
    "df1['FullDate'] = df1['FullDate'].astype('string')\n",
    "df1['year'] = [int(x[:4]) for x in list(df1['FullDate'])]\n",
    "df1['null_count'] = list(df1.isna().sum(axis=1))\n",
    "year_index = df1[df1['year'] < 2010].index.tolist()\n",
    "null_index = df1[df1['null_count'] >= 9].index.tolist()\n",
    "#　df1 = df1.loc[~df1.index.isin(year_index)]\n",
    "\n",
    "df1 = df1.iloc[~df1.index.isin(year_index + null_index)]\n",
    "df1.isna().sum()\n",
    "# df1 = df1.iloc[~df1.index.isin(null_index)]\n"
   ]
  }
 ],
 "metadata": {
  "kernelspec": {
   "display_name": "Python 3.8.10 64-bit",
   "language": "python",
   "name": "python3"
  },
  "language_info": {
   "codemirror_mode": {
    "name": "ipython",
    "version": 3
   },
   "file_extension": ".py",
   "mimetype": "text/x-python",
   "name": "python",
   "nbconvert_exporter": "python",
   "pygments_lexer": "ipython3",
   "version": "3.8.10"
  },
  "orig_nbformat": 4,
  "vscode": {
   "interpreter": {
    "hash": "916dbcbb3f70747c44a77c7bcd40155683ae19c65e1c03b4aa3499c5328201f1"
   }
  }
 },
 "nbformat": 4,
 "nbformat_minor": 2
}
